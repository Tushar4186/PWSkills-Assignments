{
  "nbformat": 4,
  "nbformat_minor": 0,
  "metadata": {
    "colab": {
      "provenance": []
    },
    "kernelspec": {
      "name": "python3",
      "display_name": "Python 3"
    },
    "language_info": {
      "name": "python"
    }
  },
  "cells": [
    {
      "cell_type": "markdown",
      "source": [
        "**Python Basics Theory Questions:**"
      ],
      "metadata": {
        "id": "IAH1M-Jit-MO"
      }
    },
    {
      "cell_type": "markdown",
      "source": [
        "**1. What is Python, and why is it popular?**\n",
        "\n",
        "-> Python is a very popular and open source programming language. It has abundant number of libraries which make it suitable for Web development, Scripting, Machine Learning, Deep Learning and lot of various fields.\n",
        "-> It is very easy to learn and use.\n",
        "-> Python offers various data pre-processing, visualization and analysis library like pandas, numpy, matplotlib etc., also provide Machine Learning library like Scikit-Learn. It also offers framework like Django, Flask for Web Development work.\n",
        "\n",
        "**2. What is an interpreter in Python?**\n",
        "\n",
        "-> Interpreter is a software that reads, interpret and executed python code line by line without compiling all code into Machine Code first. It is known as heart of Python Runtime Environment. Some interpreters are JPython, Cpython etc.\n",
        "\n",
        "**3. What are pre-defined keywords in Python?**\n",
        "\n",
        "-> Predefined Keywords are the words which have pre-defined meanings set in python environment. These pre-defined words have meanings and functions associated with it. Like if-else is used for condition check, def used to denote a function, class denotes a class in python and so on.\n",
        "\n",
        "**4. Can keywords be used as variable names?**\n",
        "\n",
        "-> No, we should never use keywords as variables because it will result in runtime error. Keywords have pre-defined meanings in python and hence, if we use that as variable name then it will result in error at runtime.\n",
        "\n",
        "**5. What is mutability in Python?**\n",
        "\n",
        "-> Mutability is the property in Python which means changes or modification can be done to objects. List, Set etc., are mutable in nature - these can be modified after creation.\n",
        "\n",
        "**6. Why are lists mutable, but tuples are immutable?**\n",
        "\n",
        "-> Once a list is defined with some elements then list can be modified and elements can be added or removed later. But in tuples, once the tuple is created with some elements then removal, addition or modification of elements is not allowed in tuple.\n",
        "This is designed to store fixed or unchangeable data in Python.\n",
        "\n",
        "**7. What is the difference between “==” and “is” operators in Python?**\n",
        "\n",
        "-> Both operators are used to compare two operands. \"==\" operator only compares the value of two object, it does not compare the reference.\n",
        "-> \"is\" operator is an identity operator. It only compares the location of two objects in memory to check if they are pointing to same location or not. It has nothing to do with value check of two operands.\n",
        "\n",
        "**8. What are logical operators in Python?**\n",
        "\n",
        "-> Logical operators in python are used to perform logical operations on Boolean values. The three main logical operators are Logical AND, Logical OR and Logical NOT.\n",
        "Logical AND (a and b) - Return True if both values are true otherwise, returns false.\n",
        "Logical AND (a or b) - Return False if both values are false otherwise, returns true.\n",
        "Logical NOT (not b) - negates the value, true becomes false and false becomes true after applying this operator.\n",
        "\n",
        "**9. What is type casting in Python?**\n",
        "\n",
        "-> Type Casting is used to convert data from one form to another if possible. Like an integer or float can be converted into a String using str(<int-value>).\n",
        "Sometimes a String can also be converted into integer. For example - if String is \"1234\" then using int(\"1234\") will result into a integer 1234.\n",
        "\n",
        "**10. What is the difference between implicit and explicit type casting?**\n",
        "\n",
        "-> Implicit type casting happens when Python automatically converts one type of data into another without human intervention.\n",
        "x = 10, y = 1.23, z = x + y\n",
        "In this case z will result into 11.23. Hence, Python converts x from integer value to float during computation automatically i.e., from 10 to 10.00.\n",
        "\n",
        "-> Explicit type casting when human will define some process to typecast the value before computation.\n",
        "Like x = \"My contact is \", y = str(123), z = x + y\n",
        "In this case, we have converted 123 to String value \"123\". This is explicit type-casting.\n",
        "\n",
        "**11. What is the purpose of conditional statements in Python?**\n",
        "\n",
        "-> Conditional statements are used to perform operations on basis of some specific conditions. Python code will be executed on the evaluation of True or false of some specific statement. There are various type of conditional statements like if, else, elif in python.\n",
        "For example -\n",
        "if (num1 == num2):\n",
        "   print(\"print both values are equal\");\n",
        "else:\n",
        "   print(\"print both values are not equal\");\n",
        "\n",
        "**12. How does the elif statement work?**\n",
        "\n",
        "-> elif is used when we have to do multiple condition check. It executes the first condition which evaluates to True.\n",
        "For example -\n",
        "if (num1 == num2 == 0):\n",
        "   print(\"both values are equal and zero\");\n",
        "elif (num1 == num2):\n",
        "   print(\"both values are equal\");\n",
        "else:\n",
        "   print(\"both values are not equal\");\n",
        "\n",
        "**13. What is the difference between for and while loops?**\n",
        "\n",
        "-> For loop is mostly used when we are aware of the limits in which loop should execute. It means when the number of iterations is already known.\n",
        "-> While loop is used when we are not aware of number of iterations and hence, it executes on the basis of statement being true. Once, the statement is false then loop will break.\n",
        "\n",
        "**14. Describe a scenario where a while loop is more suitable than a for loop?**\n",
        "\n",
        "-> For loop is used when number of iteration is known and while loop is used when number of iteration is not known.\n",
        "For loop example -\n",
        "for i in range(1, 6):\n",
        "    print(i);\n",
        "\n",
        "While loop example:\n",
        "i = 1;\n",
        "while i <= 5:\n",
        "    print(i);\n",
        "    i += 1;"
      ],
      "metadata": {
        "id": "BdxKwhs7uG8N"
      }
    },
    {
      "cell_type": "markdown",
      "source": [
        "**Practical Questions:**"
      ],
      "metadata": {
        "id": "zhSOGMB1DVrz"
      }
    },
    {
      "cell_type": "code",
      "execution_count": 36,
      "metadata": {
        "id": "M0G99dPct5BM",
        "colab": {
          "base_uri": "https://localhost:8080/"
        },
        "outputId": "e24a800f-c5da-4f9b-d792-8808be393603"
      },
      "outputs": [
        {
          "output_type": "stream",
          "name": "stdout",
          "text": [
            "Hello, World!\n"
          ]
        }
      ],
      "source": [
        "# 1 - Write a Python program to print \"Hello, World!\"\n",
        "print(\"Hello, World!\")"
      ]
    },
    {
      "cell_type": "code",
      "source": [
        "# 2 - Write a Python program that displays your name and age:\n",
        "name = input(\"Enter your name: \")\n",
        "age = int(input(\"Enter your age: \"))\n",
        "\n",
        "print(f\"My name is {name} and my age is {age}.\")"
      ],
      "metadata": {
        "id": "6kgK1hKDwuQ2",
        "colab": {
          "base_uri": "https://localhost:8080/"
        },
        "outputId": "32784751-8b3e-4896-8c9d-854d47320503"
      },
      "execution_count": 3,
      "outputs": [
        {
          "output_type": "stream",
          "name": "stdout",
          "text": [
            "Enter your name: Tushar Pandey\n",
            "Enter your age: 25\n",
            "My name is Tushar Pandey and my age is 25.\n"
          ]
        }
      ]
    },
    {
      "cell_type": "code",
      "source": [
        "# 3 - Write code to print all the pre-defined keywords in Python using the keyword library.\n",
        "help('keywords')"
      ],
      "metadata": {
        "colab": {
          "base_uri": "https://localhost:8080/"
        },
        "id": "v6PXVhY83C7-",
        "outputId": "06798134-bbe4-407d-c425-d74a16fab1c6"
      },
      "execution_count": 5,
      "outputs": [
        {
          "output_type": "stream",
          "name": "stdout",
          "text": [
            "\n",
            "Here is a list of the Python keywords.  Enter any keyword to get more help.\n",
            "\n",
            "False               class               from                or\n",
            "None                continue            global              pass\n",
            "True                def                 if                  raise\n",
            "and                 del                 import              return\n",
            "as                  elif                in                  try\n",
            "assert              else                is                  while\n",
            "async               except              lambda              with\n",
            "await               finally             nonlocal            yield\n",
            "break               for                 not                 \n",
            "\n"
          ]
        }
      ]
    },
    {
      "cell_type": "code",
      "source": [
        "# 4 - Write a program that checks if a given word is a Python keyword.\n",
        "import keyword\n",
        "word = \"while\"\n",
        "if keyword.iskeyword(word):\n",
        "  print(\"it is a keyword\")\n",
        "else:\n",
        "  print(\"it is not a keyword\")"
      ],
      "metadata": {
        "colab": {
          "base_uri": "https://localhost:8080/"
        },
        "id": "X1OzeUbR3d-8",
        "outputId": "8a7a94d5-418b-46d4-df12-347804485319"
      },
      "execution_count": 12,
      "outputs": [
        {
          "output_type": "stream",
          "name": "stdout",
          "text": [
            "it is a keyword\n"
          ]
        }
      ]
    },
    {
      "cell_type": "code",
      "source": [
        "# 5 - Create a list and tuple in Python, and demonstrate how attempting to change an element works differently for each.\n",
        "listValue = [\"mango\", \"tango\"]\n",
        "tupleValue = (\"mango\", \"tango\")\n",
        "\n",
        "listValue[0] = \"flamingo\"\n",
        "print(f\"Updated List values are: {listValue}\")\n",
        "\n",
        "tupleValue[0] = \"flamingo\"\n",
        "print(f\"Updated List values are: {tupleValue}\")"
      ],
      "metadata": {
        "colab": {
          "base_uri": "https://localhost:8080/",
          "height": 216
        },
        "id": "Ep1Xbirw4NAr",
        "outputId": "11375328-90fc-4deb-e5d6-fd8fbb9e8135"
      },
      "execution_count": 15,
      "outputs": [
        {
          "output_type": "stream",
          "name": "stdout",
          "text": [
            "Updated List values are: ['flamingo', 'tango']\n"
          ]
        },
        {
          "output_type": "error",
          "ename": "TypeError",
          "evalue": "'tuple' object does not support item assignment",
          "traceback": [
            "\u001b[0;31m---------------------------------------------------------------------------\u001b[0m",
            "\u001b[0;31mTypeError\u001b[0m                                 Traceback (most recent call last)",
            "\u001b[0;32m<ipython-input-15-9644f011e8ab>\u001b[0m in \u001b[0;36m<cell line: 8>\u001b[0;34m()\u001b[0m\n\u001b[1;32m      6\u001b[0m \u001b[0mprint\u001b[0m\u001b[0;34m(\u001b[0m\u001b[0;34mf\"Updated List values are: {listValue}\"\u001b[0m\u001b[0;34m)\u001b[0m\u001b[0;34m\u001b[0m\u001b[0;34m\u001b[0m\u001b[0m\n\u001b[1;32m      7\u001b[0m \u001b[0;34m\u001b[0m\u001b[0m\n\u001b[0;32m----> 8\u001b[0;31m \u001b[0mtupleValue\u001b[0m\u001b[0;34m[\u001b[0m\u001b[0;36m0\u001b[0m\u001b[0;34m]\u001b[0m \u001b[0;34m=\u001b[0m \u001b[0;34m\"flamingo\"\u001b[0m\u001b[0;34m\u001b[0m\u001b[0;34m\u001b[0m\u001b[0m\n\u001b[0m\u001b[1;32m      9\u001b[0m \u001b[0mprint\u001b[0m\u001b[0;34m(\u001b[0m\u001b[0;34mf\"Updated List values are: {tupleValue}\"\u001b[0m\u001b[0;34m)\u001b[0m\u001b[0;34m\u001b[0m\u001b[0;34m\u001b[0m\u001b[0m\n",
            "\u001b[0;31mTypeError\u001b[0m: 'tuple' object does not support item assignment"
          ]
        }
      ]
    },
    {
      "cell_type": "code",
      "source": [
        "# 6 - Write a function to demonstrate the behavior of mutable and immutable arguments.\n",
        "listValue = [\"titon\", \"python\"]\n",
        "tupleValue = (\"titon\", \"python\")\n",
        "\n",
        "listValue[0] = \"jython\"\n",
        "print(f\"List can be updated - {listValue} and, hence list is mutable.\")\n",
        "\n",
        "print(f\"Tuple can't be changed once created and hence, it is immutable. It throws error while updating/adding value.\")\n",
        "tupleValue[0] = \"jython\""
      ],
      "metadata": {
        "colab": {
          "base_uri": "https://localhost:8080/",
          "height": 216
        },
        "id": "OR3Jo1a35ikO",
        "outputId": "f6353b5b-f5c7-4a7d-e603-d9f52a1fc578"
      },
      "execution_count": 16,
      "outputs": [
        {
          "output_type": "stream",
          "name": "stdout",
          "text": [
            "List can be updated - ['jython', 'python'] and, hence list is mutable.\n",
            "Tuple can't be changed once created and hence, it is immutable. It throws error while updating/adding value.\n"
          ]
        },
        {
          "output_type": "error",
          "ename": "TypeError",
          "evalue": "'tuple' object does not support item assignment",
          "traceback": [
            "\u001b[0;31m---------------------------------------------------------------------------\u001b[0m",
            "\u001b[0;31mTypeError\u001b[0m                                 Traceback (most recent call last)",
            "\u001b[0;32m<ipython-input-16-a5afad181189>\u001b[0m in \u001b[0;36m<cell line: 9>\u001b[0;34m()\u001b[0m\n\u001b[1;32m      7\u001b[0m \u001b[0;34m\u001b[0m\u001b[0m\n\u001b[1;32m      8\u001b[0m \u001b[0mprint\u001b[0m\u001b[0;34m(\u001b[0m\u001b[0;34mf\"Tuple can't be changed once created and hence, it is immutable. It throws error while updating/adding value.\"\u001b[0m\u001b[0;34m)\u001b[0m\u001b[0;34m\u001b[0m\u001b[0;34m\u001b[0m\u001b[0m\n\u001b[0;32m----> 9\u001b[0;31m \u001b[0mtupleValue\u001b[0m\u001b[0;34m[\u001b[0m\u001b[0;36m0\u001b[0m\u001b[0;34m]\u001b[0m \u001b[0;34m=\u001b[0m \u001b[0;34m\"jython\"\u001b[0m\u001b[0;34m\u001b[0m\u001b[0;34m\u001b[0m\u001b[0m\n\u001b[0m",
            "\u001b[0;31mTypeError\u001b[0m: 'tuple' object does not support item assignment"
          ]
        }
      ]
    },
    {
      "cell_type": "code",
      "source": [
        "# 7 - Write a program to demonstrate the use of logical operators.\n",
        "a = int(input(\"Enter first number: \"))\n",
        "b = int(input(\"Enter second number: \"))\n",
        "\n",
        "# Using and operator\n",
        "if a > 0 and b > 0:\n",
        "    print(\"Both numbers are positive.\")\n",
        "\n",
        "# Using or operator\n",
        "if a > 0 or b > 0:\n",
        "    print(\"At least one number is positive.\")\n",
        "\n",
        "# Using not operator\n",
        "if not (a < 0 or b < 0):\n",
        "    print(\"No number is negative.\")\n",
        "else:\n",
        "    print(\"One or both numbers are negative.\")"
      ],
      "metadata": {
        "colab": {
          "base_uri": "https://localhost:8080/"
        },
        "id": "K8mfuOfh8E_4",
        "outputId": "a5e97d4a-a041-400a-e381-260b3a0e62cf"
      },
      "execution_count": 18,
      "outputs": [
        {
          "output_type": "stream",
          "name": "stdout",
          "text": [
            "Enter first number: 10\n",
            "Enter second number: -10\n",
            "At least one number is positive.\n",
            "One or both numbers are negative.\n"
          ]
        }
      ]
    },
    {
      "cell_type": "code",
      "source": [
        "# 8 - Write a Python program to convert user input from string to integer, float, and boolean types.\n",
        "string_to_integer = int(input(\"Enter the number: \"))\n",
        "print(string_to_integer)\n",
        "string_to_float = float(input(\"Enter the number: \"))\n",
        "print(string_to_float)\n",
        "string_to_boolean = bool(input(\"Enter the number: \"))\n",
        "print(string_to_boolean)"
      ],
      "metadata": {
        "colab": {
          "base_uri": "https://localhost:8080/"
        },
        "id": "xelHvear8nRI",
        "outputId": "768e53e7-17e4-4362-be51-357c6d982f31"
      },
      "execution_count": 19,
      "outputs": [
        {
          "output_type": "stream",
          "name": "stdout",
          "text": [
            "Enter the number: 10\n",
            "10\n",
            "Enter the number: 12\n",
            "12.0\n",
            "Enter the number: 5\n",
            "True\n"
          ]
        }
      ]
    },
    {
      "cell_type": "code",
      "source": [
        "# 9 - Write code to demonstrate type casting with list elements.\n",
        "listElements = [\"10\", \"20\", \"30\", \"40\"]\n",
        "sum = 0\n",
        "for val in listElements:\n",
        "  sum += int(val)\n",
        "\n",
        "print(f'the total sum after typecasting each list elements and adding is: {sum}.')"
      ],
      "metadata": {
        "colab": {
          "base_uri": "https://localhost:8080/"
        },
        "id": "X1vFC0fc9fq2",
        "outputId": "090130cd-6c89-4cd0-d2f3-e8125ea495be"
      },
      "execution_count": 20,
      "outputs": [
        {
          "output_type": "stream",
          "name": "stdout",
          "text": [
            "the total sum after typecasting each list elements and adding is: 100.\n"
          ]
        }
      ]
    },
    {
      "cell_type": "code",
      "source": [
        "# 10 - Write a program that checks if a number is positive, negative, or zero.\n",
        "number = -10\n",
        "if number > 0:\n",
        "  print(\"Positive number\")\n",
        "elif number < 0:\n",
        "  print(\"Negative number\")\n",
        "else:\n",
        "  print(\"Number is zero\")"
      ],
      "metadata": {
        "colab": {
          "base_uri": "https://localhost:8080/"
        },
        "id": "wppcNjUB-KJg",
        "outputId": "e1de98a8-9a20-4a87-d3cb-a75115f250a4"
      },
      "execution_count": 23,
      "outputs": [
        {
          "output_type": "stream",
          "name": "stdout",
          "text": [
            "Negative number\n"
          ]
        }
      ]
    },
    {
      "cell_type": "code",
      "source": [
        "# 11 - Write a for loop to print numbers from 1 to 10.\n",
        "for num in range(1, 11):\n",
        "  print(num, end=\" \")"
      ],
      "metadata": {
        "colab": {
          "base_uri": "https://localhost:8080/"
        },
        "id": "T967zjUQ-g90",
        "outputId": "93294857-be5e-4ae8-d6a0-da52f0b3be94"
      },
      "execution_count": 25,
      "outputs": [
        {
          "output_type": "stream",
          "name": "stdout",
          "text": [
            "1 2 3 4 5 6 7 8 9 10 "
          ]
        }
      ]
    },
    {
      "cell_type": "code",
      "source": [
        "# 12 - Write a Python program to find the sum of all even numbers between 1 and 50.\n",
        "totalSum = 0\n",
        "for num in range(1, 51):\n",
        "  if (num % 2 == 0):\n",
        "    totalSum += num\n",
        "\n",
        "print(f'Sum of all even numbers between 1 and 50 is: {totalSum}')"
      ],
      "metadata": {
        "colab": {
          "base_uri": "https://localhost:8080/"
        },
        "id": "JHMIYiQE_IJQ",
        "outputId": "eeee4634-ae0f-4efc-a585-3f0603f24201"
      },
      "execution_count": 27,
      "outputs": [
        {
          "output_type": "stream",
          "name": "stdout",
          "text": [
            "Sum of all even numbers between 1 and 50 is: 650\n"
          ]
        }
      ]
    },
    {
      "cell_type": "code",
      "source": [
        "# 13 - Write a program to reverse a string using a while loop.\n",
        "stringValue = \"Animal Dang\"\n",
        "reversedValue = \"\"\n",
        "length = len(stringValue)\n",
        "\n",
        "while (length > 0):\n",
        "  reversedValue += stringValue[length-1]\n",
        "  length -= 1\n",
        "\n",
        "print(f'Reversed String is: {reversedValue}')"
      ],
      "metadata": {
        "colab": {
          "base_uri": "https://localhost:8080/"
        },
        "id": "Lp5_iOHo_uvk",
        "outputId": "3a7fa615-f16a-410c-f1df-0fd04e79f320"
      },
      "execution_count": 29,
      "outputs": [
        {
          "output_type": "stream",
          "name": "stdout",
          "text": [
            "Reversed String is: gnaD laminA\n"
          ]
        }
      ]
    },
    {
      "cell_type": "code",
      "source": [
        "# 14 - Write a Python program to calculate the factorial of a number provided by the user using a while loop.\n",
        "userInput = int(input(\"enter the number: \"))\n",
        "fact = 1\n",
        "while (userInput >= 1):\n",
        "  fact *= userInput\n",
        "  userInput -= 1\n",
        "\n",
        "print(f'Factorial of the number is: {fact}')"
      ],
      "metadata": {
        "colab": {
          "base_uri": "https://localhost:8080/"
        },
        "id": "h8KGC90xBPam",
        "outputId": "10d7bbad-1caa-476a-eec7-c597dd85c407"
      },
      "execution_count": 34,
      "outputs": [
        {
          "output_type": "stream",
          "name": "stdout",
          "text": [
            "enter the number: 5\n",
            "Factorial of the number is: 120\n"
          ]
        }
      ]
    }
  ]
}