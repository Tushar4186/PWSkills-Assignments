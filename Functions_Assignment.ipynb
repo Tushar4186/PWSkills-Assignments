{
  "nbformat": 4,
  "nbformat_minor": 0,
  "metadata": {
    "colab": {
      "provenance": []
    },
    "kernelspec": {
      "name": "python3",
      "display_name": "Python 3"
    },
    "language_info": {
      "name": "python"
    }
  },
  "cells": [
    {
      "cell_type": "markdown",
      "source": [
        "**1. What is the difference between a function and a method in Python?**\n",
        "  - Both functions and methods are reusable code which are used to perform some specific questions.\n",
        "  - A function is a standalone code with defined syntax and it is not associated to any method or class. For example: def func(value):\n",
        "  - A method is a function which is associated to a class or object.\n",
        "    ```\n",
        "    class Name:\n",
        "        def greet(self, value):\n",
        "    ```\n",
        "\n",
        "**2.  Explain the concept of function arguments and parameters in Python?**\n",
        "  - A parameter is a variable declared inside parentheses when defining a function. It acts as a placeholder to receive the value. Example - def greet(name): - here name is the parameter.\n",
        "  - An argument is the actual value passed to the function when it is called.\n",
        "greet(\"Brandon\") - here, 'Brandon' is the argument.\n",
        "\n",
        "**3. What are the different ways to define and call a function in Python?**\n",
        "-> Below are the some ways which function can be defined and call:\n",
        "   - def greet(name): - It can be called using greet(\"Alice\")\n",
        "   - square = lambda x: x**2: Lambda function can be called using square(5)\n",
        "   - def greet(*args): Can provide any number of arguments - greet('Mike', 'Sam')\n",
        "   - def greet(name=\"Alice\"): Default argument function - greet()\n",
        "   - def greet(**kwargs): Can be called like - greet(name='Mike', age=30)\n",
        "\n",
        "**4. What is the purpose of the `return` statement in a Python function?**\n",
        "-> return is used to give output from the function. It is used to return the output of the function to caller. If nothing is returned from user then, it will return None by default.\n",
        "\n",
        "**5. What are iterators in Python and how do they differ from iterables?**\n",
        "  - Any sequential list or list of elements is considered to be iterable if it can be iterate or loop through. We can traversed through its elements easily.\n",
        "  - iterator is used to iterate through iterables user iter() and it returns a single result at a time using next() method.\n",
        "\n",
        "**6. Explain the concept of generators in Python and how they are defined?**\n",
        "  - Generators are mainly iterators at core but it is defined in function to iterate through very large datasets where computation is difficult.\n",
        "  - Generators take very less space and it store single evaluation at a time and pause for the user interaction to produce the next result in series.\n",
        "It is defined using 'yield' keyword in method. For example -\n",
        "```\n",
        "def count_up_to(n):\n",
        "    count = 1\n",
        "    while count <= n:\n",
        "        yield count  # Produce a value\n",
        "        count += 1\n",
        "```\n",
        "\n",
        "**7. What are the advantages of using generators over regular functions? **\n",
        "  - Generators do not store all values in memory. Instead, they generate values on the user interaction only. They paused evaluation after first result.\n",
        "  - This makes them suitable for working with large datasets or infinite sequences.\n",
        "\n",
        "**8. What is a lambda function in Python and when is it typically used?**\n",
        "-> A lambda function is also called anonymous function. It is a nameless and 1 liner function. It always returns a value at the end. It contains only one expression but can have many number of arguments.\n",
        "```\n",
        "multiplication = lambda x, y: x*y\n",
        "multiplication(6,7)\n",
        "```\n",
        "\n",
        "**9. Explain the purpose and usage of the `map()` function in Python?**\n",
        "   - The map() function in Python is used to apply a function to each item in an iterable (like a list, tuple, etc.) and returns an iterator containing the results.\n",
        "   - It is suitable to scenarios where we need to apply some common operation on all elements of iterable.\n",
        "   - It is also suitable when we have to derived a list from another list by applying some operations.\n",
        "\n",
        "```\n",
        "nums = [1, 2, 3, 4]\n",
        "\n",
        "result = map(lambda x: x * x, nums)\n",
        "print(list(result))                           # Output: [1, 4, 9, 16]\n",
        "```\n",
        "**10. What is the difference between `map()`, `reduce()`, and `filter()` functions in Python?**\n",
        "-> The map(), reduce(), and filter() functions in Python are special functions used for functional programming. They operate on iterables (like lists or tuples) and allow concise data manipulation.\n",
        "   - map(): Applies a function to each element and returns another list as a result.\n",
        "   - filter(): It applies some filter on iterables and extract another list based on some conditional checks result in true or false.\n",
        "   - reduce(): It applies special operations on all the elements of the iterables and produces a single element as a result.\n",
        "\n",
        "**11.  Using pen & Paper write the internal mechanism for sum operation using  reduce function on this given list:[47,11,42,13].**\n",
        "-> reduce functions is defined in functools module.\n",
        "```\n",
        "from functools import reduce\n",
        "\n",
        "nums = [1, 2, 3, 4]\n",
        "result = reduce(lambda x, y: x + y, nums)\n",
        "print(result)                                         # Output: 10\n",
        "```\n",
        "Internal Mechanism:\n",
        "  - The first two elements (1 and 2) are passed to the lambda function:\n",
        "1 + 2 = 3.\n",
        "  - The result (3) becomes the first argument, and the next element (3) is the second argument: 3 + 3 = 6.\n",
        "  - The process repeats: 6 + 4 = 10. Hence, Final result: 10."
      ],
      "metadata": {
        "id": "BPLUPUaMmCaE"
      }
    },
    {
      "cell_type": "markdown",
      "source": [
        "**Practical Questions:**"
      ],
      "metadata": {
        "id": "5A-tuvs4x0Je"
      }
    },
    {
      "cell_type": "code",
      "execution_count": 1,
      "metadata": {
        "colab": {
          "base_uri": "https://localhost:8080/"
        },
        "id": "6LQqS99Ll7DQ",
        "outputId": "f1dc5322-3a2b-4957-d55d-88cfcb84a625"
      },
      "outputs": [
        {
          "output_type": "stream",
          "name": "stdout",
          "text": [
            "12\n"
          ]
        }
      ],
      "source": [
        "# 1 - Write a Python function that takes a list of numbers as input and returns the sum of all even numbers in the list.\n",
        "def sum_of_even_numbers(nums):\n",
        "    even_sum = 0\n",
        "    for num in nums:\n",
        "        if num % 2 == 0:\n",
        "            even_sum += num\n",
        "    return even_sum\n",
        "\n",
        "numbers = [1, 2, 3, 4, 5, 6]\n",
        "result = sum_of_even_numbers(numbers)\n",
        "print(result)"
      ]
    },
    {
      "cell_type": "code",
      "source": [
        "# 2 - Create a Python function that accepts a string and returns the reverse of that string.\n",
        "def reverse_string(stringVal):\n",
        "    return stringVal[::-1]\n",
        "\n",
        "input_string = \"hello world\"\n",
        "result = reverse_string(input_string)\n",
        "print(result)"
      ],
      "metadata": {
        "colab": {
          "base_uri": "https://localhost:8080/"
        },
        "id": "uaQmjP5CyTNq",
        "outputId": "eeb1aaf4-f5c1-456c-cde1-6132c1e7a5fd"
      },
      "execution_count": 2,
      "outputs": [
        {
          "output_type": "stream",
          "name": "stdout",
          "text": [
            "dlrow olleh\n"
          ]
        }
      ]
    },
    {
      "cell_type": "code",
      "source": [
        "# 3 - Implement a Python function that takes a list of integers and returns a new list containing the squares of each number.\n",
        "def square_numbers(nums):\n",
        "    return [x ** 2 for x in nums]\n",
        "\n",
        "numbers = [1, 2, 3, 4, 5]\n",
        "result = square_numbers(numbers)\n",
        "print(result)"
      ],
      "metadata": {
        "colab": {
          "base_uri": "https://localhost:8080/"
        },
        "id": "U9XpUURiylQV",
        "outputId": "7670185b-0930-43da-d506-58e1ec810058"
      },
      "execution_count": 3,
      "outputs": [
        {
          "output_type": "stream",
          "name": "stdout",
          "text": [
            "[1, 4, 9, 16, 25]\n"
          ]
        }
      ]
    },
    {
      "cell_type": "code",
      "source": [
        "# 4 - Write a Python function that checks if a given number is prime or not from 1 to 200.\n",
        "def is_prime(num):\n",
        "    if num <= 1:\n",
        "        return False\n",
        "    for i in range(2, int(num ** 0.5) + 1):\n",
        "        if num % i == 0:\n",
        "            return False\n",
        "\n",
        "for number in range(1, 201):\n",
        "  if is_prime(number):\n",
        "    print(f\"{number} is prime.\")"
      ],
      "metadata": {
        "id": "3vvI3po-yxqg"
      },
      "execution_count": 10,
      "outputs": []
    },
    {
      "cell_type": "code",
      "source": [
        "# 5 -  Create an iterator class in Python that generates the Fibonacci sequence up to a specified number of terms.\n",
        "def fibonacci_series(n):\n",
        "    a, b = 0, 1\n",
        "    for i in range(n):\n",
        "        yield a\n",
        "        a, b = b, a + b\n",
        "\n",
        "n_terms = 10\n",
        "fib_iter = iter(fibonacci_series(n_terms))\n",
        "\n",
        "for num in fib_iter:\n",
        "    print(num)"
      ],
      "metadata": {
        "colab": {
          "base_uri": "https://localhost:8080/"
        },
        "id": "pBby5LW9zExr",
        "outputId": "d41b1ded-82dd-43a9-f726-820ee10dd693"
      },
      "execution_count": 11,
      "outputs": [
        {
          "output_type": "stream",
          "name": "stdout",
          "text": [
            "0\n",
            "1\n",
            "1\n",
            "2\n",
            "3\n",
            "5\n",
            "8\n",
            "13\n",
            "21\n",
            "34\n"
          ]
        }
      ]
    },
    {
      "cell_type": "code",
      "source": [
        "# 6 -  Write a generator function in Python that yields the powers of 2 up to a given exponent.\n",
        "def powers_of_two(exponent):\n",
        "    for i in range(exponent + 1):\n",
        "        yield 2 ** i\n",
        "\n",
        "exponent = 4\n",
        "for power in powers_of_two(exponent):\n",
        "    print(power)"
      ],
      "metadata": {
        "colab": {
          "base_uri": "https://localhost:8080/"
        },
        "id": "P93N4NLtzZbV",
        "outputId": "b82a3fb9-5986-49ae-d74e-69f0134d0c4a"
      },
      "execution_count": 12,
      "outputs": [
        {
          "output_type": "stream",
          "name": "stdout",
          "text": [
            "1\n",
            "2\n",
            "4\n",
            "8\n",
            "16\n"
          ]
        }
      ]
    },
    {
      "cell_type": "code",
      "source": [
        "# 7 -  Implement a generator function that reads a file line by line and yields each line as a string.\n",
        "'''\n",
        "-> Till now, we have not been taught about reading and writing from files and hence, can't do this now.\n",
        "I think this question belong to some other modules.\n",
        "'''"
      ],
      "metadata": {
        "id": "lplW8q2g0XDR"
      },
      "execution_count": null,
      "outputs": []
    },
    {
      "cell_type": "code",
      "source": [
        "# 8 - Use a lambda function in Python to sort a list of tuples based on the second element of each tuple.\n",
        "tuples = [(1, 5), (3, 2), (4, 8), (2, 7)]\n",
        "\n",
        "sorted_tuples = sorted(tuples, key=lambda x: x[1])\n",
        "\n",
        "print(sorted_tuples)"
      ],
      "metadata": {
        "colab": {
          "base_uri": "https://localhost:8080/"
        },
        "id": "XunchInx00Go",
        "outputId": "54bcece7-f61b-45f4-c773-be109e8d47e4"
      },
      "execution_count": 13,
      "outputs": [
        {
          "output_type": "stream",
          "name": "stdout",
          "text": [
            "[(3, 2), (1, 5), (2, 7), (4, 8)]\n"
          ]
        }
      ]
    },
    {
      "cell_type": "code",
      "source": [
        "# 9 - Write a Python program that uses `map()` to convert a list of temperatures from Celsius to Fahrenheit.\n",
        "def celsius_to_fahrenheit(celsius):\n",
        "    return (celsius * 9/5) + 32\n",
        "\n",
        "celsius_temp = [0, 10, 20, 30, 40, 50]\n",
        "fahrenheit_temperatures = list(map(celsius_to_fahrenheit, celsius_temp))\n",
        "\n",
        "print(fahrenheit_temperatures)"
      ],
      "metadata": {
        "colab": {
          "base_uri": "https://localhost:8080/"
        },
        "id": "Jtsafn4y1DJL",
        "outputId": "466061a4-91fa-4e72-bb30-69ad5eefec83"
      },
      "execution_count": 14,
      "outputs": [
        {
          "output_type": "stream",
          "name": "stdout",
          "text": [
            "[32.0, 50.0, 68.0, 86.0, 104.0, 122.0]\n"
          ]
        }
      ]
    },
    {
      "cell_type": "code",
      "source": [
        "# 10 - Create a Python program that uses `filter()` to remove all the vowels from a given string.\n",
        "def is_not_vowel(char):\n",
        "    vowels = 'aeiouAEIOU'\n",
        "    return char not in vowels\n",
        "\n",
        "input_string = \"Hello World!\"\n",
        "\n",
        "filtered_string = ''.join(filter(is_not_vowel, input_string))\n",
        "\n",
        "print(filtered_string)"
      ],
      "metadata": {
        "colab": {
          "base_uri": "https://localhost:8080/"
        },
        "id": "PtotT7nG1aDc",
        "outputId": "f92bba2b-4735-4cbb-8d44-4b0786c1994e"
      },
      "execution_count": 15,
      "outputs": [
        {
          "output_type": "stream",
          "name": "stdout",
          "text": [
            "Hll Wrld!\n"
          ]
        }
      ]
    },
    {
      "cell_type": "code",
      "source": [
        "'''\n",
        "11th Question -  Imagine an accounting routine used in a book shop. It works on a list with sublists ......... The product should be increased by 10,\n",
        "- € if the value of the order is smaller than 100,00 €. Write a Python program using lambda and map.\n",
        "'''\n",
        "\n",
        "order_data = [\n",
        "    [34587, \"Learning Python, Mark Lutz\", 4, 40.95],\n",
        "    [98762, \"Programming Python, Mark Lutz\", 5, 56.80],\n",
        "    [77226, \"Head First Python, Paul Barry\", 3, 32.95],\n",
        "    [88112, \"Einführung in Python3, Bernd Klein\", 3, 24.99]\n",
        "]\n",
        "\n",
        "\n",
        "def calculate_total(order):\n",
        "    order_number, title, quantity, price_per_item = order    # fetching all details from a sublist like - [34587, \"Learning Python, Mark Lutz\", 4, 40.95]\n",
        "    total_price = quantity * price_per_item      # calculating total price of item\n",
        "    if total_price < 100:\n",
        "        total_price += 10        # if total price is less than 100 then adding 10 more\n",
        "    return (order_number, total_price)     # returning a tuple with order number and total price calculated\n",
        "\n",
        "\n",
        "result = list(map(lambda order: (order[0], (order[2] * order[3]) + (10 if order[2] * order[3] < 100 else 0)), order_data))\n",
        "print(result)"
      ],
      "metadata": {
        "colab": {
          "base_uri": "https://localhost:8080/"
        },
        "id": "OwAqa57e1qDu",
        "outputId": "25a18bad-406b-478c-f24d-0c973a75701b"
      },
      "execution_count": 17,
      "outputs": [
        {
          "output_type": "stream",
          "name": "stdout",
          "text": [
            "[(34587, 163.8), (98762, 284.0), (77226, 108.85000000000001), (88112, 84.97)]\n"
          ]
        }
      ]
    },
    {
      "cell_type": "code",
      "source": [],
      "metadata": {
        "id": "GG-pQajC4j2m"
      },
      "execution_count": null,
      "outputs": []
    }
  ]
}