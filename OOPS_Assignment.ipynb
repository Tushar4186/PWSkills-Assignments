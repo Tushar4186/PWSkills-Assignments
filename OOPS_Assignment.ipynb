{
  "nbformat": 4,
  "nbformat_minor": 0,
  "metadata": {
    "colab": {
      "provenance": []
    },
    "kernelspec": {
      "name": "python3",
      "display_name": "Python 3"
    },
    "language_info": {
      "name": "python"
    }
  },
  "cells": [
    {
      "cell_type": "markdown",
      "source": [
        "**OOPS Assignment Theory Questions:**\n",
        "\n",
        "**1. What is Object-Oriented Programming (OOP)?**\n",
        "\n",
        "-> Object-Oriented Programming (OOP) is a programming paradigm that is based on the concept of objects. Objects are instance of the classes which contains data(attributes) and behavior(methods) inside them. OOP aims to solve real world problems by making code reusable and easier to maintain. It has four main pillars - Encapsulation, Polymorphism, Abstraction and Inheritance.\n",
        "\n",
        "**2. What is a class in OOP?**\n",
        "\n",
        "-> I class is like a blueprint or template for creating object or some real world entity. In class, we define the methods and attributes to show the behavior of object.\n",
        "For example -\n",
        "```\n",
        "class Dog:\n",
        "   def __init__(self):\n",
        "       pass\n",
        "\n",
        "   def bark(self):\n",
        "       pass\n",
        "   def run(self):\n",
        "       pass\n",
        "```\n",
        "\n",
        "**3. What is an object in OOP?**\n",
        "\n",
        "-> An object is the instance of the class. An object resembles the real entity for which a class is created which defines the behavior and attribute of the object. For example, object of above class is created like -\n",
        "```\n",
        "my_dog = Dog()     #creating object of the class Dog\n",
        "```\n",
        "\n",
        "**4. What is the difference between abstraction and encapsulation?**\n",
        "- Abstraction is used to hide the implementation details and shows only the essential feature which can be used. Like a person only want to withdraw cash from ATM and don't need to know how it is working internally. It is achieved in Python using @abstractmethod on the method.\n",
        "- Encapsulation is used to hide data from the external component. If we don't want to allow external entity to modify our data then we bind data and methods into single component (in class). It can be achieved using private and protected variables concept.\n",
        "\n",
        "**5. What are dunder methods in Python?**\n",
        "\n",
        "-> Dunder Methods are also called magic or special methods in python. It has name sorrounded under double underscore (__init__, __str__ etc). They enables the built-in behavior for objects and allow customization of operations like initialization, string representation, addition, and more.\n",
        "\n",
        "**6.  Explain the concept of inheritance in OOP?**\n",
        "\n",
        "-> Inheritance is used to inherit the property of parent class into Child class. Using inheritance, A child can use all the methods of parent class inside child class. Syntax -\n",
        "```\n",
        "class Vehicle:\n",
        "    def start(self):\n",
        "        print(\"Vehicle is starting...\")\n",
        "\n",
        "class Car(Vehicle):\n",
        "    def drive(self):\n",
        "        print(\"Car is driving...\")\n",
        "\n",
        "my_car = Car()\n",
        "my_car.start()  # Inherits method from parent, output -> Vehicle is starting...\n",
        "my_car.drive()\n",
        "```\n",
        "\n",
        "**7. What is polymorphism in OOP?**\n",
        "\n",
        "-> It allows a single method or operator to behave differently based on the context. We can achieve this behavior using Method overriding and method overloading.\n",
        "```\n",
        "class Animal:\n",
        "    def sound(self):\n",
        "        print(\"Animal makes a sound\")\n",
        "\n",
        "class Dog(Animal):\n",
        "    def sound(self):       # Overriding parent method\n",
        "        print(\"Dog barks\")\n",
        "\n",
        "my_dog = Dog()\n",
        "my_dog.sound()     # It will print 'Dog barks' because it overrides Animal\n",
        "```\n",
        "\n",
        "**8. How is encapsulation achieved in Python?**\n",
        "\n",
        "-> In python, encapsulation is achieved using private variable.\n",
        "```\n",
        "class BankAccount:\n",
        "    def __init__(self):\n",
        "        self.__balance = 0   # Private variable\n",
        "\n",
        "my_bank = BankAccount()\n",
        "my_bank.balance   # It will throw error because balance cannot be accessed outside class\n",
        "```\n",
        "\n",
        "**9. What is a constructor in Python?**\n",
        "\n",
        "-> A constructor is used for object creation of the class. A constructor in Python is a special method used to initialize an object when it is created.\n",
        "It is defined using __init__() in python.\n",
        "```\n",
        "class Person:\n",
        "    def __init__(self, name):\n",
        "        self.name = name\n",
        "```\n",
        "\n",
        "**10. What are class and static methods in Python?**\n",
        "- A class method belongs to class and it cannot be modified or called using object. It can be directly called using \"ClassName.<method-name>\". It is defined using @classmethod on the method and take cls as the first parameter.\n",
        "- A static method is a method that does not depend on the class or instance. It behaves like a regular function but resides inside the class for logical cases.\n",
        "It is defined using @staticmethod on the class.\n",
        "\n",
        "**11. What is method overloading in Python?**\n",
        "\n",
        "-> Method Overloading means a single object will act different in certain differrent cases. Like '+' will act as addition for two integers but concatenation for two strings.\n",
        "In true sense, it is not supported by Python but, we can achieve it using default arguments.\n",
        "```\n",
        "class Example:\n",
        "    def __init__(self, a=None, b=None):\n",
        "        if a is not None and b is not None:\n",
        "            print(f\"Two arguments: {a}, {b}\")\n",
        "        elif a is not None:\n",
        "            print(f\"One argument: {a}\")\n",
        "        else:\n",
        "            print(\"No arguments\")\n",
        "\n",
        "obj1 = Example()           # No arguments will be printed\n",
        "obj2 = Example(10)         # One argument will be printed\n",
        "obj3 = Example(10, 20)     # Two arguments will be printed\n",
        "```\n",
        "\n",
        "**12. What is method overriding in OOP?**\n",
        "\n",
        "-> Method Overriding is the process of overriding method behaviour of Parent Class method inside child class by redifining it. It can be achieved using Inheritance.\n",
        "```\n",
        "class Animal:\n",
        "    def sound(self):\n",
        "        print(\"Animal makes a sound\")\n",
        "\n",
        "class Dog(Animal):\n",
        "    def sound(self):       # Overriding parent method\n",
        "        print(\"Dog barks\")\n",
        "\n",
        "my_dog = Dog()\n",
        "my_dog.sound()     # It will print 'Dog barks' because it overrides Animal\n",
        "```\n",
        "\n",
        "**13. What is a property decorator in Python?**\n",
        "\n",
        "-> The @property decorator in Python is used to define getters, setters, and deleters for class attributes in a Pythonic way. It enables the power of accessing attributes directly instead of calling methods explicitly.\n",
        "```\n",
        "class Circle:\n",
        "    def __init__(self, radius):\n",
        "        self._radius = radius\n",
        "\n",
        "    @property\n",
        "    def area(self):  # Getter method\n",
        "        return 3.14 * self._radius * self._radius\n",
        "\n",
        "c = Circle(5)\n",
        "print(c.area)       # Output: 78.5\n",
        "```\n",
        "\n",
        "**14. Why is polymorphism important in OOP?**\n",
        "\n",
        "-> Polymorphism means \"many forms\" and allows objects of different classes to be treated as objects of a common base class.\n",
        "  - It promotes code reusability, means a single method can be used by multiples object. Like, a area method can be used to calculate area of different shapes.\n",
        "  - Polymorphism helps reduce complexity by allowing a single interface for multiple behaviors, making code easier to read, test, and maintain.\n",
        "\n",
        "**15. What is an abstract class in Python?**\n",
        "\n",
        "-> An abstract class in Python is a class that cannot be instantiated and is designed to be subclassed. It serves as a template for other classes, enforcing certain methods to be implemented in derived (child) classes.\n",
        "```\n",
        "class Animal(ABC):            # Abstract class\n",
        "    @abstractmethod\n",
        "    def make_sound(self):     # Abstract method\n",
        "        pass\n",
        "\n",
        "my_animal = Animal()     # Results into an error, object cannot be created\n",
        "```\n",
        "\n",
        "**16. What are the advantages of OOP?**\n",
        "- Code is organized into objects and classes and hence, it looks modular.\n",
        "- Code reusability can be achieved using Inheritance.\n",
        "- Security can be promoted using Encapsulation.\n",
        "- It is much easy to maintain and scale for addition of new features.\n",
        "\n",
        "**17. What is the difference between a class variable and an instance variable?**\n",
        "- A class variable is the class member which can be directly accessed using class. It will be same for all the instances.\n",
        "- An instance variable is solely attached to each instance separately. It's value can be different for each object. You can only access instance variable by creating instance of the class.\n",
        "\n",
        "**18. What is multiple inheritance in Python?**\n",
        "\n",
        "-> When a child class inherits from two or more superclasses then this mechanism is called multiple inheritance. Unlike Java, python supports multiple inheritance and solve the Diamond problem using Method Resolution Order Algorithm using C3 Linearization.\n",
        "```\n",
        "class A:\n",
        "    def show(self):\n",
        "        print(\"Class A\")\n",
        "\n",
        "class B:\n",
        "    def show(self):\n",
        "        print(\"Class B\")\n",
        "\n",
        "class C(A, B):        # Multiple Inheritance\n",
        "    pass\n",
        "\n",
        "obj = C()\n",
        "obj.show()            # Output: Class A (Based on MRO)\n",
        "```\n",
        "\n",
        "**19. Explain the purpose of __ str __ and __ repr __  methods in Python?**\n",
        "- __ str __ provides a human-readable (informal) string representation of the object. It is intended for end-users to understand the output clearly.\n",
        "- __ repr __ provides an official string representation of the object that is more formal and unambiguous. It is intended for developers and debugging purposes.\n",
        "\n",
        "**20. What is the significance of the ‘super()’ function in Python?**\n",
        "-> The super() function in Python is used to call methods from a parent or sibling class in the context of inheritance.\n",
        "```\n",
        "class Animal:\n",
        "    def speak(self):\n",
        "        print(\"Animal speaks\")\n",
        "\n",
        "class Dog(Animal):\n",
        "    def speak(self):\n",
        "        super().speak()               # Calls the parent class method\n",
        "        print(\"Dog barks\")\n",
        "\n",
        "d = Dog()\n",
        "d.speak()    # it print 'Animal speaks' then Dog barks\n",
        "```\n",
        "\n",
        "**21. What is the significance of the __ del __ method in Python?**\n",
        "\n",
        "-> The __ del __ method in Python is a special (dunder) method that is known as a destructor. It is called when an object is about to be destroyed or garbage collected. This method allows you to define cleanup actions before the object is removed from memory, such as closing files, releasing resources, or performing other housekeeping tasks.\n",
        "```\n",
        "class MyClass:\n",
        "    def __init__(self):\n",
        "        print(\"Object created\")\n",
        "\n",
        "    def __del__(self):\n",
        "        print(\"Object is being deleted\")\n",
        "\n",
        "obj = MyClass()  # Object is created\n",
        "del obj          # `__del__` is called here when object is deleted\n",
        "```\n",
        "\n",
        "**22. What is the difference between @staticmethod and @classmethod in Python?**\n",
        "- A classmethod is used when the method needs access to the class itself (via cls) rather than an instance of the class. The first argument of a class method is always the class itself (cls).\n",
        "- A staticmethod is used when the method does not need access to either the instance (self) or the class (cls). A static method does not take a special first argument (no self or cls).\n",
        "\n",
        "**23. How does polymorphism work in Python with inheritance?**\n",
        "\n",
        "-> In python, polymorphism with inheritance can achieved using method overriding. In this case, a single method of Parent class can be overriden in Child class. When we call parent class method using instance of parent class then it works on the basis that how it is defined in parent class. If we call the same method by creating instance of child class then it executes that how it is overriden in child.\n",
        "```\n",
        "class Animal:\n",
        "    def sound(self):\n",
        "        return \"Some generic animal sound\"\n",
        "\n",
        "class Dog(Animal):\n",
        "    def sound(self):\n",
        "        return \"Bark\"\n",
        "\n",
        "my_dog = Dog()\n",
        "my_dog.sound()                # prints Bark\n",
        "my_animal = Animal()\n",
        "my_animal.sound()             # Some generic animal sound\n",
        "```\n",
        "\n",
        "**24. What is method chaining in Python OOP?**\n",
        "\n",
        "-> Method chaining in Python (and object-oriented programming in general) refers to the practice of calling multiple methods on the same object in a single line of code. Like - car.add_feature(\"Sunroof\").set_color(\"Red\").add_feature(\"Leather seats\").show_details()\n",
        "\n",
        "**25. What is the purpose of the __ call __ method in Python?**\n",
        "\n",
        "-> In Python, the __ call __ method is a special method that allows an object to be called like a function. When an instance of a class is called as if it were a function, Python looks for the __ call __ method and invokes it."
      ],
      "metadata": {
        "id": "v85b8tXkeJon"
      }
    },
    {
      "cell_type": "markdown",
      "source": [
        "**OOPS Assignment Practical Questions:**"
      ],
      "metadata": {
        "id": "_LvaujTF08MI"
      }
    },
    {
      "cell_type": "code",
      "execution_count": null,
      "metadata": {
        "colab": {
          "base_uri": "https://localhost:8080/"
        },
        "id": "R5YvgwFYdsyl",
        "outputId": "0a52de2e-097d-4100-b0ee-e0b31706b7ca"
      },
      "outputs": [
        {
          "output_type": "stream",
          "name": "stdout",
          "text": [
            "Bark\n",
            "Some generic animal sound\n"
          ]
        }
      ],
      "source": [
        "# 1 -  Create a parent class Animal with a method speak() that prints a generic message. Create a child class Dog that overrides the speak() method to print \"Bark!\".\n",
        "\n",
        "class Animal:\n",
        "    def sound(self):\n",
        "         print(\"Some generic animal sound\")\n",
        "class Dog(Animal):\n",
        "    def sound(self):\n",
        "        print(\"Bark\")\n",
        "\n",
        "my_dog = Dog()\n",
        "my_dog.sound()\n",
        "my_animal = Animal()\n",
        "my_animal.sound()"
      ]
    },
    {
      "cell_type": "code",
      "source": [
        "# 2 - Write a program to create an abstract class Shape with a method area(). Derive classes Circle and Rectangle from it and implement the area() method in both.\n",
        "\n",
        "from abc import ABC, abstractmethod\n",
        "\n",
        "class Shape(ABC):\n",
        "  @abstractmethod\n",
        "  def area(self):\n",
        "    pass\n",
        "\n",
        "class Circle(Shape):\n",
        "  def area(self):\n",
        "    print(\"Inside circle - print circel area\")\n",
        "class Rectangle(Shape):\n",
        "  def area(self):\n",
        "    print(\"Inside rectange - print rectangle area\")\n",
        "\n",
        "cir = Circle()\n",
        "cir.area()\n",
        "rect = Rectangle()\n",
        "rect.area()"
      ],
      "metadata": {
        "colab": {
          "base_uri": "https://localhost:8080/"
        },
        "id": "oJrNrIzfxPOa",
        "outputId": "f23568c4-d385-46cf-e29e-2c9f539abf5f"
      },
      "execution_count": null,
      "outputs": [
        {
          "output_type": "stream",
          "name": "stdout",
          "text": [
            "Inside circle - print circel area\n",
            "Inside rectange - print rectangle area\n"
          ]
        }
      ]
    },
    {
      "cell_type": "code",
      "source": [
        "# 3 -  Implement a multi-level inheritance scenario where a class Vehicle has an attribute type. Derive a class Car and further derive a class ElectricCar that adds a battery attribute.\n",
        "\n",
        "class Vehicle:\n",
        "    def __init__(self, type):\n",
        "        self.type = type\n",
        "\n",
        "class Car(Vehicle):\n",
        "    def __init__(self, type):\n",
        "        super().__init__(type)\n",
        "\n",
        "class ElectricCar(Car):\n",
        "    def __init__(self, type, battery_capacity):\n",
        "        super().__init__(type)\n",
        "        self.battery_capacity = battery_capacity\n",
        "\n",
        "electric_car = ElectricCar(\"Electric\", 75)\n",
        "print(f\"Purchased {electric_car.type} car with a battery_capacity of {electric_car.battery_capacity}.\")"
      ],
      "metadata": {
        "id": "UFRp0drk2tLP",
        "colab": {
          "base_uri": "https://localhost:8080/"
        },
        "outputId": "c18fc641-c8b5-4a44-9171-37ccee52640f"
      },
      "execution_count": 59,
      "outputs": [
        {
          "output_type": "stream",
          "name": "stdout",
          "text": [
            "Purchased Electric car with a battery_capacity of 75.\n"
          ]
        }
      ]
    },
    {
      "cell_type": "code",
      "source": [
        "# This question is repetitive in give assignment question book, hence just copy pasting.\n",
        "\n",
        "# 4 - Implement a multi-level inheritance scenario where a class Vehicle has an attribute type. Derive a class Car and further derive a class ElectricCar that adds a battery attribute.\n",
        "\n",
        "class Vehicle:\n",
        "    def __init__(self, type):\n",
        "        self.type = type\n",
        "\n",
        "class Car(Vehicle):\n",
        "    def __init__(self, type):\n",
        "        super().__init__(type)\n",
        "\n",
        "class ElectricCar(Car):\n",
        "    def __init__(self, type, battery_capacity):\n",
        "        super().__init__(type)\n",
        "        self.battery_capacity = battery_capacity\n",
        "\n",
        "electric_car = ElectricCar(\"Electric\", 75)\n",
        "print(f\"Purchased {electric_car.type} car with a battery_capacity of {electric_car.battery_capacity}.\")"
      ],
      "metadata": {
        "id": "WqWyKW5B3889",
        "colab": {
          "base_uri": "https://localhost:8080/"
        },
        "outputId": "35b5b8e3-d955-4b40-d1b3-c8d7bb5a1274"
      },
      "execution_count": 60,
      "outputs": [
        {
          "output_type": "stream",
          "name": "stdout",
          "text": [
            "Purchased Electric car with a battery_capacity of 75.\n"
          ]
        }
      ]
    },
    {
      "cell_type": "code",
      "source": [
        "# 5 - Write a program to demonstrate encapsulation by creating a class BankAccount with private attributes balance and methods to deposit, withdraw, and check balance.\n",
        "\n",
        "class BankAccount:\n",
        "  def __init__(self):\n",
        "    self.__balance = 1212.34\n",
        "\n",
        "  def deposit(self, amount):\n",
        "    self.__balance += amount\n",
        "\n",
        "  def withdraw(self, amount):\n",
        "    self.__balance -= amount\n",
        "\n",
        "  def showBalance(self):\n",
        "    print(\"Bank current balance is: \", self.__balance)\n",
        "\n",
        "my_bank = BankAccount()\n",
        "my_bank.showBalance()          # showing initial balance before deposit\n",
        "my_bank.deposit(1400)\n",
        "my_bank.showBalance()          # showing balance after deposit\n",
        "my_bank.withdraw(612.34)\n",
        "my_bank.showBalance()          # showing balance after withdraw"
      ],
      "metadata": {
        "colab": {
          "base_uri": "https://localhost:8080/"
        },
        "id": "gTNQ29Ya5GO4",
        "outputId": "42fff0b0-1964-4004-face-0ae14599e7bb"
      },
      "execution_count": null,
      "outputs": [
        {
          "output_type": "stream",
          "name": "stdout",
          "text": [
            "Bank current balance is:  1212.34\n",
            "Bank current balance is:  2612.34\n",
            "Bank current balance is:  2000.0\n"
          ]
        }
      ]
    },
    {
      "cell_type": "code",
      "source": [
        "# 6 -  Demonstrate runtime polymorphism using a method play() in a base class Instrument. Derive classes Guitar and Piano that implement their own version of play().\n",
        "\n",
        "class Instrument:\n",
        "  def play(self):\n",
        "    print(\"It is base class Instrument\")\n",
        "\n",
        "class Guitar(Instrument):\n",
        "  def play(self):\n",
        "    print(\"It is derived class Guitar - Playing Guitar\")\n",
        "\n",
        "class Piano(Instrument):\n",
        "  def play(self):\n",
        "    print(\"It is derived class Piano - Playing Piano\")\n",
        "\n",
        "my_instrument = Instrument()\n",
        "my_instrument.play()\n",
        "my_guitar = Guitar()\n",
        "my_guitar.play()\n",
        "my_piano = Piano()\n",
        "my_piano.play()"
      ],
      "metadata": {
        "colab": {
          "base_uri": "https://localhost:8080/"
        },
        "id": "8-hgEMKS8CnO",
        "outputId": "c064246b-3b99-499b-87b4-f5b417f284eb"
      },
      "execution_count": null,
      "outputs": [
        {
          "output_type": "stream",
          "name": "stdout",
          "text": [
            "It is base class Instrument\n",
            "It is derived class Guitar - Playing Guitar\n",
            "It is derived class Piano - Playing Piano\n"
          ]
        }
      ]
    },
    {
      "cell_type": "code",
      "source": [
        "# 7 - Create a class MathOperations with a class method() to add two numbers and a static method subtract_numbers() to subtract two numbers.\n",
        "\n",
        "class MathOperations:\n",
        "\n",
        "    @classmethod\n",
        "    def add_numbers(cls, a, b):\n",
        "        return a + b\n",
        "\n",
        "    @staticmethod\n",
        "    def subtract_numbers(a, b):\n",
        "        return a - b\n",
        "\n",
        "my_oper = MathOperations()\n",
        "result1 = my_oper.add_numbers(100, 500)        # Calling class method add_numbers()\n",
        "print(\"Addition of two number is\", result1)\n",
        "\n",
        "result2 = MathOperations.subtract_numbers(500, 300)       # Calling static method subtract_numbers()\n",
        "print(\"Substraction of two number is\", result2)"
      ],
      "metadata": {
        "colab": {
          "base_uri": "https://localhost:8080/"
        },
        "id": "45eVm2Ol97Ay",
        "outputId": "b573f2a1-d9ec-4bdb-bbb2-3fdec5c9f0e7"
      },
      "execution_count": null,
      "outputs": [
        {
          "output_type": "stream",
          "name": "stdout",
          "text": [
            "Addition of two number is 600\n",
            "Substraction of two number is 200\n"
          ]
        }
      ]
    },
    {
      "cell_type": "code",
      "source": [
        "# 8 - Implement a class Person with a class method to count the total number of persons created.\n",
        "\n",
        "class Person:\n",
        "  total_persons = 0\n",
        "\n",
        "  def __init__(self):\n",
        "    Person.total_persons += 1\n",
        "\n",
        "person1 = Person()\n",
        "person2 = Person()\n",
        "person3 = Person()\n",
        "person4 = Person()\n",
        "\n",
        "print(\"Total person created are\", Person.total_persons)"
      ],
      "metadata": {
        "colab": {
          "base_uri": "https://localhost:8080/"
        },
        "id": "3JDscLH9DAPE",
        "outputId": "c9f3d8a6-7098-4ac8-f564-b0ce893fb81a"
      },
      "execution_count": null,
      "outputs": [
        {
          "output_type": "stream",
          "name": "stdout",
          "text": [
            "Total person created are 4\n"
          ]
        }
      ]
    },
    {
      "cell_type": "code",
      "source": [
        "# 9 - Write a class Fraction with attributes numerator and denominator. Override the str method to display the fraction as \"numerator/denominator\".\n",
        "\n",
        "class Fraction:\n",
        "    def __init__(self, numerator, denominator):\n",
        "        self.numerator = numerator\n",
        "        self.denominator = denominator\n",
        "\n",
        "    def __str__(self):\n",
        "        return f\"{self.numerator}/{self.denominator}\"\n",
        "\n",
        "fraction = Fraction(3, 4)\n",
        "print(fraction)"
      ],
      "metadata": {
        "colab": {
          "base_uri": "https://localhost:8080/"
        },
        "id": "64lFL6W1EvkD",
        "outputId": "c84f520a-e6c7-4712-895c-59031558d15d"
      },
      "execution_count": null,
      "outputs": [
        {
          "output_type": "stream",
          "name": "stdout",
          "text": [
            "3/4\n"
          ]
        }
      ]
    },
    {
      "cell_type": "code",
      "source": [
        "# 10 - Demonstrate operator overloading by creating a class Vector and overriding the add method to add two vectors.\n",
        "\n",
        "class Vector:\n",
        "    def __init__(self, x, y):\n",
        "        self.x = x\n",
        "        self.y = y\n",
        "\n",
        "    def __add__(self, other):\n",
        "        return Vector(self.x + other.x, self.y + other.y)\n",
        "\n",
        "    def __str__(self):\n",
        "        return f\"({self.x}, {self.y})\"\n",
        "\n",
        "vector1 = Vector(2, 3)\n",
        "vector2 = Vector(4, 5)\n",
        "\n",
        "result = vector1 + vector2\n",
        "\n",
        "print(result)"
      ],
      "metadata": {
        "colab": {
          "base_uri": "https://localhost:8080/"
        },
        "id": "IM5lLTxkHdvi",
        "outputId": "0cd02804-0109-46bb-a934-32b5b20cbc65"
      },
      "execution_count": null,
      "outputs": [
        {
          "output_type": "stream",
          "name": "stdout",
          "text": [
            "(6, 8)\n"
          ]
        }
      ]
    },
    {
      "cell_type": "code",
      "source": [
        "# 11 - Create a class Person with attributes name and age. Add a method greet() that prints \"Hello, my name is {name} and I am {age} years old.\"\n",
        "\n",
        "class Person:\n",
        "  def __init__(self, name, age):\n",
        "    self.name = name\n",
        "    self.age = age\n",
        "\n",
        "  def greet(self):\n",
        "    print(f'Hello, my name is {self.name} and I am {self.age} years old.')\n",
        "\n",
        "person1 = Person(\"Brandon\", 27)\n",
        "person1.greet()"
      ],
      "metadata": {
        "colab": {
          "base_uri": "https://localhost:8080/"
        },
        "id": "FcCnDnygLHve",
        "outputId": "e1760203-ec7e-49c1-c0c1-fc085de5012f"
      },
      "execution_count": null,
      "outputs": [
        {
          "output_type": "stream",
          "name": "stdout",
          "text": [
            "Hello, my name is Brandon and I am 27 years old.\n"
          ]
        }
      ]
    },
    {
      "cell_type": "code",
      "source": [
        "# 12 - Implement a class Student with attributes name and grades. Create a method average_grade() to compute the average of the grades.\n",
        "\n",
        "class Student:\n",
        "  def __init__(self, name, grades):\n",
        "    self.name = name\n",
        "    self.grades = grades\n",
        "\n",
        "  def average_grade(self):\n",
        "    sum = 0\n",
        "    for grade in self.grades:\n",
        "      sum += grade\n",
        "    return sum/len(self.grades)\n",
        "\n",
        "stud = Student(\"Michal\", [10, 9.5, 6, 7.5, 10])\n",
        "print(\"The average grade is\", stud.average_grade())"
      ],
      "metadata": {
        "colab": {
          "base_uri": "https://localhost:8080/"
        },
        "id": "h8RWLOJiMDc_",
        "outputId": "5a30161d-cbff-48ed-91b9-86f2dc0ea421"
      },
      "execution_count": null,
      "outputs": [
        {
          "output_type": "stream",
          "name": "stdout",
          "text": [
            "The average grade is 8.6\n"
          ]
        }
      ]
    },
    {
      "cell_type": "code",
      "source": [
        "#13 - Create a class Rectangle with methods set_dimensions() to set the dimensions and area() to calculate the area.\n",
        "\n",
        "class Rectangle:\n",
        "\n",
        "  def set_dimensions(self, length, breadth):\n",
        "    self.length = length\n",
        "    self.breadth = breadth\n",
        "\n",
        "  def area(self):\n",
        "    return self.length * self.breadth\n",
        "\n",
        "prac = Rectangle()\n",
        "prac.set_dimensions(10, 30)\n",
        "print(\"The area of Rectangle is\", prac.area())"
      ],
      "metadata": {
        "id": "3zqI067VMvxd",
        "colab": {
          "base_uri": "https://localhost:8080/"
        },
        "outputId": "0682dae2-aadf-4912-bfb6-606fc99117f0"
      },
      "execution_count": 44,
      "outputs": [
        {
          "output_type": "stream",
          "name": "stdout",
          "text": [
            "The area of Rectangle is 300\n"
          ]
        }
      ]
    },
    {
      "cell_type": "code",
      "source": [
        "# 14 - Create a class Employee with a method calculate_salary() that computes the salary based on hours worked and hourly rate. Create a derived class Manager that adds a bonus to the salary.\n",
        "\n",
        "class Employee:\n",
        "  def __init__(self, hourly_rate, hours_worked):\n",
        "    self.hourly_rate = hourly_rate\n",
        "    self.hours_worked = hours_worked\n",
        "\n",
        "  def calculate_salary(self):\n",
        "    return self.hourly_rate * self.hours_worked\n",
        "\n",
        "class Manager(Employee):\n",
        "  def __init__(self, hourly_rate, hours_worked, bonus):\n",
        "    super().__init__(hourly_rate, hours_worked)\n",
        "    self.bonus = bonus\n",
        "\n",
        "  def calculate_salary(self):\n",
        "    base_salary = super().calculate_salary()\n",
        "    return base_salary + self.bonus\n",
        "\n",
        "emp_salary_with_bonus = Manager(hourly_rate=500, hours_worked=40, bonus=400)\n",
        "print(\"Total salary of employee is\", emp_salary_with_bonus.calculate_salary())"
      ],
      "metadata": {
        "colab": {
          "base_uri": "https://localhost:8080/"
        },
        "id": "JJDQuOTjQgXB",
        "outputId": "9bc3aeba-6f4e-43a4-ba2a-357445188755"
      },
      "execution_count": 48,
      "outputs": [
        {
          "output_type": "stream",
          "name": "stdout",
          "text": [
            "Total salary of employee is 20400\n"
          ]
        }
      ]
    },
    {
      "cell_type": "code",
      "source": [
        "# 15 - Create a class Product with attributes name, price, and quantity. Implement a method total_price() that calculates the total price of the product.\n",
        "\n",
        "class Product:\n",
        "  def __init__(self, name, price, quantity):\n",
        "    self.name = name\n",
        "    self.price = price\n",
        "    self.quantity = quantity\n",
        "\n",
        "  def total_price(self):\n",
        "    return self.price * self.quantity\n",
        "\n",
        "prod1 = Product(\"Oneplus Mobiles\", 35000, 4)\n",
        "print(\"The total price for product is\", prod1.total_price())"
      ],
      "metadata": {
        "colab": {
          "base_uri": "https://localhost:8080/"
        },
        "id": "0IZwPsDiTgZx",
        "outputId": "e2625461-6b2f-4c94-b739-33567dcd41da"
      },
      "execution_count": 49,
      "outputs": [
        {
          "output_type": "stream",
          "name": "stdout",
          "text": [
            "The total price for product is 140000\n"
          ]
        }
      ]
    },
    {
      "cell_type": "code",
      "source": [
        "# 16 - Create a class Animal with an abstract method sound(). Create two derived classes Cow and Sheep that implement the sound() method.\n",
        "\n",
        "class Animal:\n",
        "  @abstractmethod\n",
        "  def sound(self):\n",
        "    pass\n",
        "\n",
        "class Cow(Animal):\n",
        "  def sound(self):\n",
        "    print(\"Cow make sound like moo.\")\n",
        "\n",
        "class Sheep(Animal):\n",
        "  def sound(self):\n",
        "    print(\"Sheep make sound like baa.\")\n",
        "\n",
        "cow = Cow()\n",
        "cow.sound()\n",
        "\n",
        "sheep = Sheep()\n",
        "sheep.sound()"
      ],
      "metadata": {
        "colab": {
          "base_uri": "https://localhost:8080/"
        },
        "id": "uhWvP5aLWVdG",
        "outputId": "05eaa777-920a-483a-d855-13acac0bc6cd"
      },
      "execution_count": 50,
      "outputs": [
        {
          "output_type": "stream",
          "name": "stdout",
          "text": [
            "Cow make sound like moo.\n",
            "Sheep make sound like baa.\n"
          ]
        }
      ]
    },
    {
      "cell_type": "code",
      "source": [
        "# 17 - Create a class Book with attributes title, author, and year_published.Add a method get_book_info() that returns a formatted string with the book's details.\n",
        "\n",
        "class Book:\n",
        "  def __init__(self, book_name, book_author, year_published):\n",
        "    self.book_name = book_name\n",
        "    self.book_author = book_author\n",
        "    self.year_published = year_published\n",
        "\n",
        "  def get_book_info(self):\n",
        "    return f'{self.book_name} book is written by {self.book_author}, and it was published in year {self.year_published}.'\n",
        "\n",
        "book = Book(\"Harry Potter\", \"JK Rowling\", \"1997\")\n",
        "print(book.get_book_info())"
      ],
      "metadata": {
        "colab": {
          "base_uri": "https://localhost:8080/"
        },
        "id": "k0xhTN1ZXW0v",
        "outputId": "32ea3ed7-ba37-43b8-caa2-9fade3838414"
      },
      "execution_count": 53,
      "outputs": [
        {
          "output_type": "stream",
          "name": "stdout",
          "text": [
            "Harry Potter book is written by JK Rowling, and it was published in year 1997.\n"
          ]
        }
      ]
    },
    {
      "cell_type": "code",
      "source": [
        "# 18 - Create a class House with attributes address and price. Create a derived class Mansion that adds an attribute number_of_rooms.\n",
        "\n",
        "class House:\n",
        "  def __init__(self, address, price):\n",
        "    self.address = address\n",
        "    self.price = price\n",
        "\n",
        "class Mansion(House):\n",
        "  def __init__(self, address, price, number_of_rooms):\n",
        "    super().__init__(address, price)\n",
        "    self.number_of_rooms = number_of_rooms\n",
        "\n",
        "mansion_details = Mansion(\"(H12, Strouton Street, London)\", \"$500000\", 6)\n",
        "\n",
        "print(f'The house with {mansion_details.number_of_rooms} rooms is listed with address - {mansion_details.address} and its current price value is {mansion_details.price}.')\n"
      ],
      "metadata": {
        "colab": {
          "base_uri": "https://localhost:8080/"
        },
        "id": "CnK-UfWgYpQu",
        "outputId": "9fd34dfe-14fd-4f4d-e8f6-683615bafbac"
      },
      "execution_count": 58,
      "outputs": [
        {
          "output_type": "stream",
          "name": "stdout",
          "text": [
            "The house with 6 rooms is listed with address - (H12, Strouton Street, London) and its current price value is $500000.\n"
          ]
        }
      ]
    },
    {
      "cell_type": "code",
      "source": [],
      "metadata": {
        "id": "A71rH9obaB0Z"
      },
      "execution_count": null,
      "outputs": []
    }
  ]
}