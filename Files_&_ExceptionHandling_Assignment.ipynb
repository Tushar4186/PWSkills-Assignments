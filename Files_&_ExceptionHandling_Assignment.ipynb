{
  "nbformat": 4,
  "nbformat_minor": 0,
  "metadata": {
    "colab": {
      "provenance": []
    },
    "kernelspec": {
      "name": "python3",
      "display_name": "Python 3"
    },
    "language_info": {
      "name": "python"
    }
  },
  "cells": [
    {
      "cell_type": "markdown",
      "source": [
        "**Files & Exception Handling Assignment - Theory Questions:**\n",
        "\n",
        "**1. What is the difference between interpreted and compiled languages?**\n",
        "*   A compiler is used to compiled the code into machine code before execution. Complete code will be compiled into Machine code which is based on Hardware configuration. For example - Java, C++ etc., uses a compiler.\n",
        "*   Code is executed line-by-line by an interpreter at runtime. There is no compilation steps is involved. Python uses an interpreter for execution and errors will be only identified at runtime.\n",
        "\n",
        "**2. What is exception handling in Python?**\n",
        "\n",
        "-> Exception Handling is required to resolve the issue of abruptly termination of python program. In Python, we use try and except block to handle the exception. We put all the suspicious code in try block and if exception happen then we catch it in except block and handles it. This way, program will not terminate and proceed to next part of execution.\n",
        "\n",
        "**3. What is the purpose of the finally block in exception handling?**\n",
        "\n",
        "-> Code implemented in finally will always be executed, no matter exception happens or not. Hence, finally block is defined for writing cleanup process code or closing opened resources.\n",
        "\n",
        "**4. What is logging in Python?**\n",
        "\n",
        "-> Logging is used to record the flow or state of our program. It is very helpful for debugging pupose. It also shows how our program is responding at runtime. In python, we use logging library to implement logging in our application.\n",
        "\n",
        "**5. What is the significance of the __ del __ method in Python?**\n",
        "\n",
        "-> The __del__ method in Python is a destructor method, which is called when an object is about to be destroyed. It allows you to define cleanup actions, such as releasing resources or closing file connections, before the object is garbage collected.\n",
        "```\n",
        "class Example:\n",
        "    def __del__(self):\n",
        "        print(\"Object is being destroyed\")\n",
        "```\n",
        "\n",
        "**6. What is the difference between import and from ... import in Python?**\n",
        "- \"import\" is used to import entire module into your code.\n",
        "- \"from ... import\" imports specific components (functions, classes, or variables) directly from a module.\n",
        "\n",
        "**7. How can you handle multiple exceptions in Python?**\n",
        "-> In Python, we can handle multiple exceptions using multiple excepts. For example -\n",
        "```\n",
        "try:\n",
        "    x = int(input(\"Enter a number: \"))\n",
        "    result = 10 / x\n",
        "except ValueError:\n",
        "    print(\"Invalid input! Please enter a number.\")\n",
        "except ZeroDivisionError:\n",
        "    print(\"Division by zero is not allowed.\")\n",
        "except Exception as e:\n",
        "    print(f\"An error occurred: {e}\")\n",
        "```\n",
        "\n",
        "**8. What is the purpose of the with statement when handling files in Python?**\n",
        "\n",
        "-> The with statement in Python is primarily used to simplify file handling by managing resources like file streams automatically. It ensures that files are properly opened and closed, even if an exception occurs during processing.\n",
        "\n",
        "**9. What is the difference between multithreading and multiprocessing?**\n",
        "\n",
        "-> In Python, multithreading and multiprocessing are two approaches used to achieve concurrent execution.\n",
        "- Multithreading is a technique where multiple threads (smaller units of a process) run concurrently within the same process.\n",
        "- Multiprocessing involves running multiple processes, each with its own memory space and Python interpreter.\n",
        "\n",
        "**10. What are the advantages of using logging in a program?**\n",
        "\n",
        "-> Using logging in a program offers several advantages, making it an essential practice for monitoring, debugging, and maintaining software.\n",
        "- Provides detailed information about errors and program execution, helping developers trace issues efficiently.\n",
        "- Allows developers to set different logging levels (DEBUG, INFO, WARNING, ERROR, CRITICAL) to control the granularity of logs.\n",
        "\n",
        "**11. What is memory management in Python?**\n",
        "\n",
        "-> Memory management in Python refers to the process of allocating, tracking, and releasing memory used by Python programs. It ensures efficient use of memory resources while preventing memory leaks.\n",
        "\n",
        "**12. What are the basic steps involved in exception handling in Python?**\n",
        "\n",
        "-> In Python, exception handling is implemented using the try-except block to handle runtime errors gracefully without crashing the program.\n",
        "- Place the code that might raise an exception inside a try block.\n",
        "- Use one or more except blocks to catch specific or generic exceptions.\n",
        "\n",
        "**13. Why is memory management important in Python?**\n",
        "\n",
        "-> Memory management is crucial in Python because it ensures efficient allocation, utilization, and deallocation of memory resources, enabling programs to run smoothly without consuming excessive memory or crashing.\n",
        "\n",
        "**14. What is the role of try and except in exception handling?**\n",
        "\n",
        "-> The try and except blocks in Python are used for exception handling to catch and manage runtime errors gracefully, ensuring the program does not crash.\n",
        "```\n",
        "try:\n",
        "    num = int(input(\"Enter a number: \"))\n",
        "    result = 10 / num\n",
        "except ValueError:\n",
        "    print(\"Invalid input. Please enter a number.\")\n",
        "except ZeroDivisionError:\n",
        "    print(\"Division by zero is not allowed.\")\n",
        "```\n",
        "\n",
        "**15.  How does Python's garbage collection system work?**\n",
        "\n",
        "-> Python's garbage collection system is responsible for automatically managing memory by detecting and cleaning up unused objects, ensuring efficient memory usage and preventing memory leaks. The system is primarily based on two mechanisms: reference counting and cyclic garbage collection.\n",
        "\n",
        "**16. What is the purpose of the else block in exception handling?**\n",
        "\n",
        "-> In Python, the else block in exception handling is used to specify code that should be executed only if no exception was raised in the try block. If the code inside the try block runs without any errors, the else block will be executed. This is useful for writing code that should only run when the normal execution (without exceptions) occurs.\n",
        "\n",
        "**17. What are the common logging levels in Python?**\n",
        "- DEBUG: Detailed diagnostic messages for development.\n",
        "- INFO: General operational messages.\n",
        "- WARNING: Indicates a potential issue or something that could become problematic.\n",
        "- ERROR: Logs errors that impact a specific function or action.\n",
        "- CRITICAL: Logs severe errors that could halt the program.\n",
        "\n",
        "**18. What is the difference between os.fork() and multiprocessing in Python?**\n",
        "- os.fork() is a system call in Unix-based systems (Linux, macOS) that creates a child process by duplicating the current process. The child process is a copy of the parent process, and it starts executing from the point where os.fork() was called.\n",
        "- The multiprocessing module provides a higher-level interface for creating and managing child processes. It works across platforms, including both Unix-based systems and Windows.\n",
        "\n",
        "**19. What is the importance of closing a file in Python?**\n",
        "- File handles and memory buffers are limited system resources. When you open a file, the operating system allocates resources (like file descriptors) to manage it. If you do not close the file, these resources remain tied up, potentially leading to resource leaks.\n",
        "- When you write to a file, the data is often buffered in memory before being written to the disk. This means the changes might not immediately be written to the file. If you don't close the file properly, the buffered data might not be flushed to disk, leading to data loss.\n",
        "\n",
        "**20. What is the difference between file.read() and file.readline() in Python?**\n",
        "- file.read() - Reads the entire content of a file (or a specified number of bytes) into a single string.\n",
        "- file.readline() - file.readline() reads the next line from the file, including the newline character (\\n) at the end of the line.\n",
        "\n",
        "**21. What is the logging module in Python used for?**\n",
        "\n",
        "-> The logging module in Python is used for tracking and recording log messages from a program. It allows developers to write log entries for their applications, which can be helpful for debugging, monitoring, error reporting, and auditing. The logging system in Python provides a flexible way to log messages of different severity levels (e.g., debug, info, warning, error, and critical).\n",
        "\n",
        "**22. What is the os module in Python used for in file handling?**\n",
        "\n",
        "-> The os module in Python provides a way to interact with the operating system, offering a variety of functions for file and directory management, including creating, removing, and manipulating files and directories. It is often used in file handling when you need to interact with the underlying filesystem or perform OS-specific operations.\n",
        "\n",
        "**23. What are the challenges associated with memory management in Python?**\n",
        "- Unpredictability: The garbage collector runs periodically and might not immediately reclaim memory for unused objects. This can lead to increased memory consumption at certain points in time.\n",
        "- Uncollected Garbage: Objects that are no longer in use may not be cleaned up due to reference cycles or incorrect usage of objects, causing memory to accumulate over time.\n",
        "- Python's memory allocator manages memory in blocks. Over time, as objects are created and destroyed, the memory layout may become fragmented, making it harder to allocate larger objects even when there is enough free memory overall.\n",
        "\n",
        "**24. How do you raise an exception manually in Python?**\n",
        "\n",
        "-> In Python, you can raise an exception manually using the raise statement. This is useful when you want to signal that something has gone wrong in your program or when a specific condition is met.\n",
        "```\n",
        "class MyCustomError(Exception):\n",
        "    pass\n",
        "\n",
        "# Raising a custom exception\n",
        "raise MyCustomError(\"This is a custom error\")\n",
        "```\n",
        "\n",
        "**25. Why is it important to use multithreading in certain applications?**\n",
        "\n",
        "-> Multithreading is important in certain applications because it allows multiple tasks or operations to be performed concurrently, taking advantage of modern multi-core processors. By dividing a program into multiple threads that can run simultaneously, multithreading can improve the performance, responsiveness, and efficiency of applications, especially for tasks that are I/O-bound or involve concurrent tasks.\n",
        "\n"
      ],
      "metadata": {
        "id": "l5aUD72Mq2lm"
      }
    },
    {
      "cell_type": "markdown",
      "source": [
        "**Files & Exception Handling Assignment - Practical Questions:**"
      ],
      "metadata": {
        "id": "bVDzfpwNUFz5"
      }
    },
    {
      "cell_type": "code",
      "execution_count": 2,
      "metadata": {
        "id": "8CLPCZuNqzW8"
      },
      "outputs": [],
      "source": [
        "# 1 - How can you open a file for writing in Python and write a string to it?\n",
        "\n",
        "with open('example.txt', 'w') as file:\n",
        "    file.write(\"Hello, this is a string written to the file.\")"
      ]
    },
    {
      "cell_type": "code",
      "source": [
        "# 2 - Write a Python program to read the contents of a file and print each line.\n",
        "\n",
        "with open('example.txt', 'r') as file:\n",
        "\n",
        "    for line in file:\n",
        "        print(line, end='')"
      ],
      "metadata": {
        "colab": {
          "base_uri": "https://localhost:8080/"
        },
        "id": "wxJnYb92VBuV",
        "outputId": "3178d3cd-7554-482f-f558-50334407308d"
      },
      "execution_count": 3,
      "outputs": [
        {
          "output_type": "stream",
          "name": "stdout",
          "text": [
            "Hello, this is a string written to the file."
          ]
        }
      ]
    },
    {
      "cell_type": "code",
      "source": [
        "# 3 -  How would you handle a case where the file doesn't exist while trying to open it for reading?\n",
        "\n",
        "try:\n",
        "    with open('example1.txt', 'r') as file:\n",
        "        for line in file:\n",
        "            print(line, end='')\n",
        "\n",
        "except FileNotFoundError:\n",
        "    print(\"Error: The file does not exist.\")"
      ],
      "metadata": {
        "colab": {
          "base_uri": "https://localhost:8080/"
        },
        "id": "WJ-chxshVz_A",
        "outputId": "751b3720-d4af-4ca9-f630-711c2bec14de"
      },
      "execution_count": 1,
      "outputs": [
        {
          "output_type": "stream",
          "name": "stdout",
          "text": [
            "Error: The file does not exist.\n"
          ]
        }
      ]
    },
    {
      "cell_type": "code",
      "source": [
        "# 4 - Write a Python script that reads from one file and writes its content to another file?\n",
        "\n",
        "try:\n",
        "    with open('source.txt', 'r') as source_file, open('destination.txt', 'w') as dest_file:\n",
        "        content = source_file.read()\n",
        "        dest_file.write(content)\n",
        "\n",
        "    print(\"File contents have been copied successfully.\")\n",
        "\n",
        "except FileNotFoundError:\n",
        "    print(\"Error: One or both of the files do not exist.\")\n",
        "except IOError:\n",
        "    print(\"Error: There was an issue with file input/output.\")\n"
      ],
      "metadata": {
        "id": "2UrhpX1omVyY"
      },
      "execution_count": null,
      "outputs": []
    },
    {
      "cell_type": "code",
      "source": [
        "# 5 - How would you catch and handle division by zero error in Python?\n",
        "\n",
        "try:\n",
        "    num = int(input(\"Enter a number: \"))\n",
        "    result = 10 / num\n",
        "except ValueError:\n",
        "    print(\"Invalid input. Please enter a number.\")\n",
        "except ZeroDivisionError:\n",
        "    print(\"Division by zero is not allowed.\")"
      ],
      "metadata": {
        "id": "d8IEf61eppgs"
      },
      "execution_count": null,
      "outputs": []
    },
    {
      "cell_type": "code",
      "source": [
        "# 6 - Write a Python program that logs an error message to a log file when a division by zero exception occurs?\n",
        "\n",
        "import logging\n",
        "logging.basicConfig(filename='error_log.txt', level=logging.ERROR, format='%(asctime)s - %(levelname)s - %(message)s')\n",
        "\n",
        "try:\n",
        "    result = 10 / 0\n",
        "except ZeroDivisionError as e:\n",
        "    logging.error(\"Division by zero occurred: %s\", e)\n",
        "\n",
        "    print(\"Error: Cannot divide by zero. The error has been logged.\")"
      ],
      "metadata": {
        "colab": {
          "base_uri": "https://localhost:8080/"
        },
        "id": "ZO0cOXnTppd1",
        "outputId": "ad77b396-845b-47d0-8ff8-ad8db6e13eea"
      },
      "execution_count": 4,
      "outputs": [
        {
          "output_type": "stream",
          "name": "stderr",
          "text": [
            "ERROR:root:Division by zero occurred: division by zero\n"
          ]
        },
        {
          "output_type": "stream",
          "name": "stdout",
          "text": [
            "Error: Cannot divide by zero. The error has been logged.\n"
          ]
        }
      ]
    },
    {
      "cell_type": "code",
      "source": [
        "# 7 -  How do you log information at different levels (INFO, ERROR, WARNING) in Python using the logging module?\n",
        "\n",
        "import logging\n",
        "logging.basicConfig(filename='app.log', level=logging.DEBUG, format='%(asctime)s - %(levelname)s - %(message)s')\n",
        "\n",
        "# Log an INFO message\n",
        "logging.info(\"This is an info message.\")\n",
        "\n",
        "# Log a WARNING message\n",
        "logging.warning(\"This is a warning message.\")\n",
        "\n",
        "# Log an ERROR message\n",
        "logging.error(\"This is an error message.\")\n",
        "\n",
        "# Log a DEBUG message\n",
        "logging.debug(\"This is a debug message.\")\n",
        "\n",
        "# Log a CRITICAL message\n",
        "logging.critical(\"This is a critical message.\")"
      ],
      "metadata": {
        "colab": {
          "base_uri": "https://localhost:8080/"
        },
        "id": "NWIChxqUppat",
        "outputId": "b6f6a4dc-61d1-45d2-d293-8ca62e985a10"
      },
      "execution_count": 5,
      "outputs": [
        {
          "output_type": "stream",
          "name": "stderr",
          "text": [
            "WARNING:root:This is a warning message.\n",
            "ERROR:root:This is an error message.\n",
            "CRITICAL:root:This is a critical message.\n"
          ]
        }
      ]
    },
    {
      "cell_type": "code",
      "source": [
        "# 8 - Write a program to handle a file opening error using exception handling?\n",
        "\n",
        "try:\n",
        "    with open('non_existent_file.txt', 'r') as file:\n",
        "        content = file.read()\n",
        "        print(content)\n",
        "\n",
        "except FileNotFoundError:\n",
        "    print(\"Error: The file does not exist.\")\n",
        "\n",
        "except IOError:\n",
        "    print(\"Error: There was an issue opening the file.\")\n",
        "\n",
        "except Exception as e:\n",
        "    print(f\"An unexpected error occurred: {e}\")"
      ],
      "metadata": {
        "id": "0X12m2MappYX"
      },
      "execution_count": null,
      "outputs": []
    },
    {
      "cell_type": "code",
      "source": [
        "# 9 - How can you read a file line by line and store its content in a list in Python?\n",
        "\n",
        "with open('example.txt', 'r') as file:\n",
        "    lines = [line.strip() for line in file]\n",
        "\n",
        "print(lines)"
      ],
      "metadata": {
        "colab": {
          "base_uri": "https://localhost:8080/"
        },
        "id": "JmjTPXPdppVP",
        "outputId": "b91e68f4-b455-483e-8e7d-a4493bb5e509"
      },
      "execution_count": 6,
      "outputs": [
        {
          "output_type": "stream",
          "name": "stdout",
          "text": [
            "['Hello, this is a string written to the file.']\n"
          ]
        }
      ]
    },
    {
      "cell_type": "code",
      "source": [
        "# 10 - How can you append data to an existing file in Python?\n",
        "\n",
        "with open('example.txt', 'a') as file:\n",
        "    file.write(\"This is a new line of text.\\n\")\n",
        "    file.write(\"Another line to append.\\n\")\n",
        "\n",
        "print(\"Data has been appended to the file.\")\n"
      ],
      "metadata": {
        "colab": {
          "base_uri": "https://localhost:8080/"
        },
        "id": "bpPqpK5dppSX",
        "outputId": "2ae06fed-5e7b-4d4e-9e07-edb5690bc355"
      },
      "execution_count": 7,
      "outputs": [
        {
          "output_type": "stream",
          "name": "stdout",
          "text": [
            "Data has been appended to the file.\n"
          ]
        }
      ]
    },
    {
      "cell_type": "code",
      "source": [
        "# 11 - Write a Python program that uses a try-except block to handle an error when attempting to access dictionary key that doesn't exist?\n",
        "\n",
        "my_dict = {'name': 'John', 'age': 30, 'city': 'New York'}\n",
        "\n",
        "try:\n",
        "    value = my_dict['address']\n",
        "    print(value)\n",
        "\n",
        "except KeyError:\n",
        "    print(\"Error: The key 'address' does not exist in the dictionary.\")"
      ],
      "metadata": {
        "colab": {
          "base_uri": "https://localhost:8080/"
        },
        "id": "0MLXkIQkppPx",
        "outputId": "52f3ee77-3ba8-46db-a5a3-bccffbab3262"
      },
      "execution_count": 8,
      "outputs": [
        {
          "output_type": "stream",
          "name": "stdout",
          "text": [
            "Error: The key 'address' does not exist in the dictionary.\n"
          ]
        }
      ]
    },
    {
      "cell_type": "code",
      "source": [
        "# 12 - Write a program that demonstrates using multiple except blocks to handle different types of exceptions?\n",
        "\n",
        "def divide_numbers():\n",
        "    try:\n",
        "        num1 = int(input(\"Enter the first number: \"))\n",
        "        num2 = int(input(\"Enter the second number: \"))\n",
        "\n",
        "        result = num1 / num2\n",
        "        print(f\"The result of division is: {result}\")\n",
        "\n",
        "    except ZeroDivisionError:\n",
        "        print(\"Error: Cannot divide by zero.\")\n",
        "\n",
        "    except ValueError:\n",
        "        print(\"Error: Invalid input. Please enter numeric values.\")\n",
        "\n",
        "    except Exception as e:\n",
        "        print(f\"An unexpected error occurred: {e}\")\n",
        "\n",
        "divide_numbers()"
      ],
      "metadata": {
        "id": "LsKyTn9jppM6"
      },
      "execution_count": null,
      "outputs": []
    },
    {
      "cell_type": "code",
      "source": [
        "# 13 - How would you check if a file exists before attempting to read it in Python?\n",
        "\n",
        "import os\n",
        "\n",
        "file_path = 'example.txt'\n",
        "\n",
        "if os.path.exists(file_path):\n",
        "    with open(file_path, 'r') as file:\n",
        "        content = file.read()\n",
        "        print(content)\n",
        "else:\n",
        "    print(f\"Error: The file '{file_path}' does not exist.\")"
      ],
      "metadata": {
        "colab": {
          "base_uri": "https://localhost:8080/"
        },
        "id": "vWUxICxwppJx",
        "outputId": "f8f44f7e-70eb-4ab7-9ea1-3e01be98470f"
      },
      "execution_count": 9,
      "outputs": [
        {
          "output_type": "stream",
          "name": "stdout",
          "text": [
            "Hello, this is a string written to the file.This is a new line of text.\n",
            "Another line to append.\n",
            "\n"
          ]
        }
      ]
    },
    {
      "cell_type": "code",
      "source": [
        "# 14 - Write a program that uses the logging module to log both informational and error messages?\n",
        "\n",
        "import logging\n",
        "logging.basicConfig(\n",
        "    filename='app.log',\n",
        "    level=logging.DEBUG,\n",
        "    format='%(asctime)s - %(levelname)s - %(message)s'\n",
        ")\n",
        "\n",
        "logging.info(\"This is an informational message.\")\n",
        "\n",
        "try:\n",
        "    result = 10 / 0\n",
        "except ZeroDivisionError as e:\n",
        "    logging.error(f\"An error occurred: {e}\")\n",
        "\n",
        "logging.info(\"This is another informational message after the error.\")"
      ],
      "metadata": {
        "colab": {
          "base_uri": "https://localhost:8080/"
        },
        "id": "MK0LesrsppHL",
        "outputId": "a46c0c81-10a4-4687-db7e-dd4a08b3b328"
      },
      "execution_count": 10,
      "outputs": [
        {
          "output_type": "stream",
          "name": "stderr",
          "text": [
            "ERROR:root:An error occurred: division by zero\n"
          ]
        }
      ]
    },
    {
      "cell_type": "code",
      "source": [
        "# 15 - Write a Python program that prints the content of a file and handles the case when the file is empty?\n",
        "\n",
        "def print_file_content(file_path):\n",
        "    try:\n",
        "        with open(file_path, 'r') as file:\n",
        "            content = file.read()\n",
        "\n",
        "            if content:\n",
        "                print(content)\n",
        "            else:\n",
        "                print(\"The file is empty.\")\n",
        "\n",
        "    except FileNotFoundError:\n",
        "        print(f\"Error: The file '{file_path}' does not exist.\")\n",
        "    except Exception as e:\n",
        "        print(f\"An unexpected error occurred: {e}\")\n",
        "\n",
        "file_path = 'example.txt'\n",
        "\n",
        "print_file_content(file_path)"
      ],
      "metadata": {
        "colab": {
          "base_uri": "https://localhost:8080/"
        },
        "id": "SyMmZ0kcppEC",
        "outputId": "e12ede47-c0a3-4ab9-c847-026bd714e95e"
      },
      "execution_count": 11,
      "outputs": [
        {
          "output_type": "stream",
          "name": "stdout",
          "text": [
            "Hello, this is a string written to the file.This is a new line of text.\n",
            "Another line to append.\n",
            "\n"
          ]
        }
      ]
    },
    {
      "cell_type": "code",
      "source": [
        "# 16 - Demonstrate how to use memory profiling to check the memory usage of a small program?\n",
        "\n",
        "# install memory_profiler - \"pip install memory-profiler\"\n",
        "from memory_profiler import profile\n",
        "\n",
        "@profile\n",
        "def my_function():\n",
        "    a = [i for i in range(100000)]\n",
        "    b = [i ** 2 for i in range(100000)]\n",
        "    result = sum(b)\n",
        "    return result\n",
        "\n",
        "if __name__ == \"__main__\":\n",
        "    my_function()"
      ],
      "metadata": {
        "id": "pK1iAfqZppBV"
      },
      "execution_count": null,
      "outputs": []
    },
    {
      "cell_type": "code",
      "source": [
        "# 17 - Write a Python program to create and write a list of numbers to a file, one number per line?\n",
        "\n",
        "numbers = [1, 2, 3, 4, 5, 6, 7, 8, 9, 10]\n",
        "\n",
        "with open('numbers.txt', 'w') as file:\n",
        "    for number in numbers:\n",
        "        file.write(f\"{number}\\n\")\n",
        "\n",
        "print(\"Numbers have been written to the file 'numbers.txt'.\")"
      ],
      "metadata": {
        "colab": {
          "base_uri": "https://localhost:8080/"
        },
        "id": "51wgdv1Cpo2R",
        "outputId": "cc2d0c85-f14c-498a-c131-a490726b88a4"
      },
      "execution_count": 12,
      "outputs": [
        {
          "output_type": "stream",
          "name": "stdout",
          "text": [
            "Numbers have been written to the file 'numbers.txt'.\n"
          ]
        }
      ]
    },
    {
      "cell_type": "code",
      "source": [
        "# 18 - How would you implement a basic logging setup that logs to a file with rotation after 1MB?\n",
        "\n",
        "import logging\n",
        "from logging.handlers import RotatingFileHandler\n",
        "\n",
        "logger = logging.getLogger('my_logger')\n",
        "logger.setLevel(logging.DEBUG)\n",
        "\n",
        "# Create a rotating file handler that will log to 'app.log'\n",
        "# maxBytes: 1MB (1024 * 1024), backupCount: number of backups to keep\n",
        "handler = RotatingFileHandler('app.log', maxBytes=1024*1024, backupCount=3)\n",
        "\n",
        "# Set up the log format\n",
        "formatter = logging.Formatter('%(asctime)s - %(levelname)s - %(message)s')\n",
        "handler.setFormatter(formatter)\n",
        "\n",
        "# Add the handler to the logger\n",
        "logger.addHandler(handler)\n",
        "\n",
        "# Example log messages\n",
        "logger.debug('This is a debug message.')\n",
        "logger.info('This is an informational message.')\n",
        "logger.warning('This is a warning message.')\n",
        "logger.error('This is an error message.')\n",
        "logger.critical('This is a critical message.')"
      ],
      "metadata": {
        "colab": {
          "base_uri": "https://localhost:8080/"
        },
        "id": "MiGy2-J5sSL9",
        "outputId": "9df0beaa-98f9-4207-f1e6-da8387fbc6c7"
      },
      "execution_count": 13,
      "outputs": [
        {
          "output_type": "stream",
          "name": "stderr",
          "text": [
            "DEBUG:my_logger:This is a debug message.\n",
            "INFO:my_logger:This is an informational message.\n",
            "WARNING:my_logger:This is a warning message.\n",
            "ERROR:my_logger:This is an error message.\n",
            "CRITICAL:my_logger:This is a critical message.\n"
          ]
        }
      ]
    },
    {
      "cell_type": "code",
      "source": [
        "# 19 - Write a program that handles both IndexError and KeyError using a try-except block?\n",
        "\n",
        "def handle_errors():\n",
        "    my_list = [1, 2, 3]\n",
        "    my_dict = {'a': 1, 'b': 2, 'c': 3}\n",
        "\n",
        "    try:\n",
        "        print(my_list[5])\n",
        "\n",
        "        print(my_dict['d'])\n",
        "\n",
        "    except IndexError as e:\n",
        "        print(f\"IndexError: {e}\")\n",
        "\n",
        "    except KeyError as e:\n",
        "        print(f\"KeyError: {e}\")\n",
        "\n",
        "handle_errors()"
      ],
      "metadata": {
        "colab": {
          "base_uri": "https://localhost:8080/"
        },
        "id": "-ki7bnpCsfEz",
        "outputId": "0356cbd5-6f26-4f8d-8814-2807a2c575ad"
      },
      "execution_count": 14,
      "outputs": [
        {
          "output_type": "stream",
          "name": "stdout",
          "text": [
            "IndexError: list index out of range\n"
          ]
        }
      ]
    },
    {
      "cell_type": "code",
      "source": [
        "# 20 - How would you open a file and read its contents using a context manager in Python?\n",
        "\n",
        "# Open the file using a context manager\n",
        "with open('example.txt', 'r') as file:\n",
        "    content = file.read()\n",
        "\n",
        "    print(content)"
      ],
      "metadata": {
        "colab": {
          "base_uri": "https://localhost:8080/"
        },
        "id": "_ldFlyemsq38",
        "outputId": "929d5b43-c80d-45a2-9114-ef14297fd4c6"
      },
      "execution_count": 15,
      "outputs": [
        {
          "output_type": "stream",
          "name": "stdout",
          "text": [
            "Hello, this is a string written to the file.This is a new line of text.\n",
            "Another line to append.\n",
            "\n"
          ]
        }
      ]
    },
    {
      "cell_type": "code",
      "source": [
        "# 21 - Write a Python program that reads a file and prints the number of occurrences of a specific word?\n",
        "\n",
        "def count_word_occurrences(file_path, word_to_count):\n",
        "    try:\n",
        "        with open(file_path, 'r') as file:\n",
        "            content = file.read()\n",
        "            content = content.lower()\n",
        "\n",
        "            word_count = content.split().count(word_to_count.lower())\n",
        "\n",
        "            print(f\"The word '{word_to_count}' appears {word_count} times in the file.\")\n",
        "\n",
        "    except FileNotFoundError:\n",
        "        print(f\"Error: The file '{file_path}' does not exist.\")\n",
        "    except Exception as e:\n",
        "        print(f\"An error occurred: {e}\")\n",
        "\n",
        "# Specify the file path and word to count\n",
        "file_path = 'example.txt'\n",
        "word_to_count = 'python'\n",
        "\n",
        "count_word_occurrences(file_path, word_to_count)\n"
      ],
      "metadata": {
        "colab": {
          "base_uri": "https://localhost:8080/"
        },
        "id": "Hcql_wvvs1MR",
        "outputId": "412aaeca-9b76-4419-96e6-306c595a9011"
      },
      "execution_count": 16,
      "outputs": [
        {
          "output_type": "stream",
          "name": "stdout",
          "text": [
            "The word 'python' appears 0 times in the file.\n"
          ]
        }
      ]
    },
    {
      "cell_type": "code",
      "source": [
        "# 22 - How can you check if a file is empty before attempting to read its contents?\n",
        "\n",
        "import os\n",
        "\n",
        "def read_file_if_not_empty(file_path):\n",
        "    # Check if the file exists and its size\n",
        "    if os.path.exists(file_path):\n",
        "\n",
        "        # Get the size of the file\n",
        "        file_size = os.path.getsize(file_path)\n",
        "\n",
        "        if file_size == 0:\n",
        "            print(f\"The file '{file_path}' is empty.\")\n",
        "        else:\n",
        "            with open(file_path, 'r') as file:\n",
        "                content = file.read()\n",
        "                print(f\"File content:\\n{content}\")\n",
        "    else:\n",
        "        print(f\"Error: The file '{file_path}' does not exist.\")\n",
        "\n",
        "# Specify the file path\n",
        "file_path = 'example.txt'\n",
        "\n",
        "# Call the function to check if file is empty and read it\n",
        "read_file_if_not_empty(file_path)"
      ],
      "metadata": {
        "colab": {
          "base_uri": "https://localhost:8080/"
        },
        "id": "skH2cHfVtFjP",
        "outputId": "b2a98e7b-2983-4193-d55d-ec91e30fc2f9"
      },
      "execution_count": 17,
      "outputs": [
        {
          "output_type": "stream",
          "name": "stdout",
          "text": [
            "File content:\n",
            "Hello, this is a string written to the file.This is a new line of text.\n",
            "Another line to append.\n",
            "\n"
          ]
        }
      ]
    },
    {
      "cell_type": "code",
      "source": [
        "# 23 - Write a Python program that writes to a log file when an error occurs during file handling?\n",
        "\n",
        "import logging\n",
        "\n",
        "logging.basicConfig(filename='file_errors.log', level=logging.ERROR, format='%(asctime)s - %(levelname)s - %(message)s')\n",
        "\n",
        "def read_file(file_path):\n",
        "    try:\n",
        "        with open(file_path, 'r') as file:\n",
        "            content = file.read()\n",
        "            print(content)\n",
        "\n",
        "    except FileNotFoundError as e:\n",
        "        logging.error(f\"FileNotFoundError: The file '{file_path}' was not found.\")\n",
        "        print(f\"Error: The file '{file_path}' does not exist.\")\n",
        "\n",
        "    except IOError as e:\n",
        "        logging.error(f\"IOError: An error occurred while handling the file '{file_path}'.\")\n",
        "        print(f\"Error: An error occurred while handling the file '{file_path}'.\")\n",
        "\n",
        "    except Exception as e:\n",
        "        logging.error(f\"Unexpected error: {str(e)}\")\n",
        "        print(f\"An unexpected error occurred: {str(e)}\")\n",
        "\n",
        "# Specify the file path\n",
        "file_path = 'example.txt'\n",
        "\n",
        "read_file(file_path)"
      ],
      "metadata": {
        "colab": {
          "base_uri": "https://localhost:8080/"
        },
        "id": "IWFpE1RGtRox",
        "outputId": "f964d5dd-d579-4fca-f62b-42f3660f5058"
      },
      "execution_count": 18,
      "outputs": [
        {
          "output_type": "stream",
          "name": "stdout",
          "text": [
            "Hello, this is a string written to the file.This is a new line of text.\n",
            "Another line to append.\n",
            "\n"
          ]
        }
      ]
    },
    {
      "cell_type": "code",
      "source": [],
      "metadata": {
        "id": "vugl0zGqthdK"
      },
      "execution_count": null,
      "outputs": []
    }
  ]
}